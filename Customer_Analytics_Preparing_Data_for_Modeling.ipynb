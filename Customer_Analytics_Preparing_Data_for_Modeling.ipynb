{
  "cells": [
    {
      "cell_type": "markdown",
      "metadata": {
        "id": "view-in-github",
        "colab_type": "text"
      },
      "source": [
        "<a href=\"https://colab.research.google.com/github/vandarsar/Linear-regression/blob/main/Customer_Analytics_Preparing_Data_for_Modeling.ipynb\" target=\"_parent\"><img src=\"https://colab.research.google.com/assets/colab-badge.svg\" alt=\"Open In Colab\"/></a>"
      ]
    },
    {
      "source": [
        "![Two data scientists working on a dashboard.](hr-image-small.png)\n",
        "\n",
        "A common problem when creating models to generate business value from data is that the datasets can be so large that it can take days for the model to generate predictions. Ensuring that your dataset is stored as efficiently as possible is crucial for allowing these models to run on a more reasonable timescale without having to reduce the size of the dataset.\n",
        "\n",
        "You've been hired by a major online data science training provider called *Training Data Ltd.* to clean up one of their largest customer datasets. This dataset will eventually be used to predict whether their students are looking for a new job or not, information that they will then use to direct them to prospective recruiters.\n",
        "\n",
        "You've been given access to `customer_train.csv`, which is a subset of their entire customer dataset, so you can create a proof-of-concept of a much more efficient storage solution. The dataset contains anonymized student information, and whether they were looking for a new job or not during training:\n",
        "\n",
        "| Column       | Description                                  |\n",
        "|------------- |--------------------------------------------- |\n",
        "| `student_id`   | A unique ID for each student.                 |\n",
        "| `city`  | A code for the city the student lives in.  |\n",
        "| `city_development_index` | A scaled development index for the city.       |\n",
        "| `gender` | The student's gender.       |\n",
        "| `relevant_experience` | An indicator of the student's relevant experience.       |\n",
        "| `enrolled_university` | The type of university course enrolled in (if any).       |\n",
        "| `education_level` | The student's education level.       |\n",
        "| `major_discipline` | The educational discipline of the student.       |\n",
        "| `experience` | The student's total experience (in years).       |\n",
        "| `company_size` | The number of employees at the student's current employer.       |\n",
        "| `last_new_job` | The number of years between the student's current and previous jobs.       |\n",
        "| `training_hours` | The number of hours of training completed.       |\n",
        "| `job_change` | An indicator of whether the student is looking for a new job (`1`) or not (`0`).       |"
      ],
      "metadata": {
        "id": "a09e6d54-bf3f-4632-b299-bd49d5c80d5f"
      },
      "id": "a09e6d54-bf3f-4632-b299-bd49d5c80d5f",
      "cell_type": "markdown"
    },
    {
      "cell_type": "code",
      "source": [
        "from google.colab import drive\n",
        "drive.mount('/content/drive')"
      ],
      "metadata": {
        "colab": {
          "base_uri": "https://localhost:8080/"
        },
        "id": "6DBvjbSgMwxI",
        "outputId": "719d104e-22ee-4cfd-a230-42cc0d4d3f19"
      },
      "id": "6DBvjbSgMwxI",
      "execution_count": 444,
      "outputs": [
        {
          "output_type": "stream",
          "name": "stdout",
          "text": [
            "Drive already mounted at /content/drive; to attempt to forcibly remount, call drive.mount(\"/content/drive\", force_remount=True).\n"
          ]
        }
      ]
    },
    {
      "source": [
        "# Start your code here!\n",
        "import pandas as pd\n"
      ],
      "metadata": {
        "jupyter": {
          "outputs_hidden": false,
          "source_hidden": false
        },
        "executionTime": 118,
        "lastSuccessfullyExecutedCode": "# Start your code here!\nimport pandas as pd\n",
        "id": "eda9c1b2-4e9a-41ac-8da6-d4c98775f986"
      },
      "id": "eda9c1b2-4e9a-41ac-8da6-d4c98775f986",
      "cell_type": "code",
      "execution_count": 445,
      "outputs": []
    },
    {
      "source": [
        "importing data into the dataframe"
      ],
      "metadata": {
        "id": "270cca7d-0220-4bb8-9802-74bc820abc0c"
      },
      "id": "270cca7d-0220-4bb8-9802-74bc820abc0c",
      "cell_type": "markdown"
    },
    {
      "source": [
        "ds_jobs = pd.read_csv(\"/content/drive/MyDrive/Colab datasets/customer_train.csv\")"
      ],
      "metadata": {
        "jupyter": {
          "outputs_hidden": false,
          "source_hidden": false
        },
        "executionTime": 0,
        "lastSuccessfullyExecutedCode": "ds_jobs = pd.read_csv(\"customer_train.csv\")",
        "id": "a9c6dfb3-bfaa-46e8-b416-687ebeb195d9"
      },
      "id": "a9c6dfb3-bfaa-46e8-b416-687ebeb195d9",
      "cell_type": "code",
      "execution_count": 446,
      "outputs": []
    },
    {
      "source": [
        "Creating a copy of the dataframe as df"
      ],
      "metadata": {
        "id": "bff1f8b4-3b77-455b-9e82-166c433cec81"
      },
      "id": "bff1f8b4-3b77-455b-9e82-166c433cec81",
      "cell_type": "markdown"
    },
    {
      "source": [
        "ds_jobs_clean = ds_jobs.copy()"
      ],
      "metadata": {
        "jupyter": {
          "outputs_hidden": false,
          "source_hidden": false
        },
        "executionTime": 0,
        "lastSuccessfullyExecutedCode": "ds_jobs_clean = ds_jobs.copy()",
        "id": "be780fa0-81cf-4deb-b4c2-b2300a6a35c3"
      },
      "id": "be780fa0-81cf-4deb-b4c2-b2300a6a35c3",
      "cell_type": "code",
      "execution_count": 447,
      "outputs": []
    },
    {
      "source": [
        "checking the shape of the dataframe"
      ],
      "metadata": {
        "id": "9040ec00-9464-46c8-8fe8-473cdfd8ebab"
      },
      "id": "9040ec00-9464-46c8-8fe8-473cdfd8ebab",
      "cell_type": "markdown"
    },
    {
      "source": [
        "ds_jobs_clean.shape"
      ],
      "metadata": {
        "jupyter": {
          "outputs_hidden": false,
          "source_hidden": false
        },
        "executionTime": 102,
        "lastSuccessfullyExecutedCode": "ds_jobs_clean.shape",
        "colab": {
          "base_uri": "https://localhost:8080/"
        },
        "id": "ac9904d5-35fd-428d-b28e-19578d9aea3f",
        "outputId": "7eee43b7-71ad-46d0-d99b-fc6d1794c870"
      },
      "id": "ac9904d5-35fd-428d-b28e-19578d9aea3f",
      "cell_type": "code",
      "execution_count": 448,
      "outputs": [
        {
          "output_type": "execute_result",
          "data": {
            "text/plain": [
              "(19158, 14)"
            ]
          },
          "metadata": {},
          "execution_count": 448
        }
      ]
    },
    {
      "source": [
        "cheking the data types of all the 14 columns "
      ],
      "metadata": {
        "id": "cbc2d9d3-1b6b-4316-b67d-139389b81afb"
      },
      "id": "cbc2d9d3-1b6b-4316-b67d-139389b81afb",
      "cell_type": "markdown"
    },
    {
      "source": [
        "ds_jobs_clean.dtypes"
      ],
      "metadata": {
        "jupyter": {
          "outputs_hidden": false,
          "source_hidden": false
        },
        "executionTime": 144,
        "lastSuccessfullyExecutedCode": "ds_jobs_clean.dtypes",
        "colab": {
          "base_uri": "https://localhost:8080/"
        },
        "id": "52ca62e4-92a0-4b55-85fa-b61a1f4d0fad",
        "outputId": "3e0e3d78-6ef5-432f-eeaa-e7d3d6b167e4"
      },
      "id": "52ca62e4-92a0-4b55-85fa-b61a1f4d0fad",
      "cell_type": "code",
      "execution_count": 449,
      "outputs": [
        {
          "output_type": "execute_result",
          "data": {
            "text/plain": [
              "student_id                  int64\n",
              "city                       object\n",
              "city_development_index    float64\n",
              "gender                     object\n",
              "relevant_experience        object\n",
              "enrolled_university        object\n",
              "education_level            object\n",
              "major_discipline           object\n",
              "experience                 object\n",
              "company_size               object\n",
              "company_type               object\n",
              "last_new_job               object\n",
              "training_hours              int64\n",
              "job_change                float64\n",
              "dtype: object"
            ]
          },
          "metadata": {},
          "execution_count": 449
        }
      ]
    },
    {
      "source": [
        "student_id  and training_hours columns are int64 that must be converted to int32\n",
        "We'll will define and function to handle that"
      ],
      "metadata": {
        "id": "7b8de686-8589-46b2-8d91-bce6e679f30a"
      },
      "id": "7b8de686-8589-46b2-8d91-bce6e679f30a",
      "cell_type": "markdown"
    },
    {
      "source": [
        "ds_jobs_clean[[\"student_id\", \"training_hours\"]] = ds_jobs_clean[[\"student_id\", \"training_hours\"]].astype(\"int32\")"
      ],
      "metadata": {
        "jupyter": {
          "outputs_hidden": false,
          "source_hidden": false
        },
        "executionTime": 0,
        "lastSuccessfullyExecutedCode": "ds_jobs_clean[[\"student_id\", \"training_hours\"]] = ds_jobs_clean[[\"student_id\", \"training_hours\"]].astype(\"int32\")",
        "id": "0b7e62b7-24d2-422f-8c39-49b1ff95f3cd"
      },
      "cell_type": "code",
      "id": "0b7e62b7-24d2-422f-8c39-49b1ff95f3cd",
      "execution_count": 450,
      "outputs": []
    },
    {
      "source": [
        "Doingcity_development_index and job_change will be changed to float 16"
      ],
      "metadata": {
        "id": "69227527-9d26-4cf0-85ce-78f4392bd094"
      },
      "id": "69227527-9d26-4cf0-85ce-78f4392bd094",
      "cell_type": "markdown"
    },
    {
      "source": [
        "ds_jobs_clean[[\"city_development_index\", \"job_change\"]] = ds_jobs_clean[[\"city_development_index\", \"job_change\"]].astype(\"float16\")"
      ],
      "metadata": {
        "jupyter": {
          "outputs_hidden": false,
          "source_hidden": false
        },
        "executionTime": 0,
        "lastSuccessfullyExecutedCode": "ds_jobs_clean[[\"city_development_index\", \"job_change\"]] = ds_jobs_clean[[\"city_development_index\", \"job_change\"]].astype(\"float16\")",
        "id": "5fd89d7c-a6eb-4d89-9dfc-ab0bb117ecc2"
      },
      "id": "5fd89d7c-a6eb-4d89-9dfc-ab0bb117ecc2",
      "cell_type": "code",
      "execution_count": 451,
      "outputs": []
    },
    {
      "source": [
        "convert education_level column to an ordinal categorical variable"
      ],
      "metadata": {
        "id": "5fe6685e-945f-4469-b265-0c72a3e94a59"
      },
      "id": "5fe6685e-945f-4469-b265-0c72a3e94a59",
      "cell_type": "markdown"
    },
    {
      "source": [
        "string_df = ds_jobs_clean[[\"city\", \"gender\", \"relevant_experience\" , \"enrolled_university\", \"education_level\", \"major_discipline\", \"experience\", \"company_size\", \"company_type\", \"last_new_job\"]]\n",
        "for col in string_df:\n",
        "    ds_jobs_clean[col] = ds_jobs_clean[col].astype('category')\n",
        "    \n"
      ],
      "metadata": {
        "jupyter": {
          "outputs_hidden": false,
          "source_hidden": false
        },
        "executionTime": 0,
        "lastSuccessfullyExecutedCode": "string_df = ds_jobs_clean[[\"city\", \"gender\", \"relevant_experience\" , \"enrolled_university\", \"education_level\", \"major_discipline\", \"experience\", \"company_size\", \"company_type\", \"last_new_job\"]]\nfor col in string_df:\n    ds_jobs_clean[col] = ds_jobs_clean[col].astype('category')\n    \n",
        "id": "b549f006-374b-4d0b-b192-d738b7ef12d1"
      },
      "id": "b549f006-374b-4d0b-b192-d738b7ef12d1",
      "cell_type": "code",
      "execution_count": 452,
      "outputs": []
    },
    {
      "source": [
        "checking the dtype of the dataframe again"
      ],
      "metadata": {
        "id": "52232a77-f494-4b44-9043-399cca299dfc"
      },
      "id": "52232a77-f494-4b44-9043-399cca299dfc",
      "cell_type": "markdown"
    },
    {
      "source": [
        "ds_jobs_clean.dtypes   \t\t#checking the types again"
      ],
      "metadata": {
        "jupyter": {
          "outputs_hidden": false,
          "source_hidden": false
        },
        "executionTime": 106,
        "lastSuccessfullyExecutedCode": "ds_jobs_clean.dtypes   \t\t#checking the types again",
        "colab": {
          "base_uri": "https://localhost:8080/"
        },
        "id": "9c64f2c3-2be8-4287-ad28-dcaf38348110",
        "outputId": "b177d382-3949-4039-e646-fb6af107f706"
      },
      "cell_type": "code",
      "id": "9c64f2c3-2be8-4287-ad28-dcaf38348110",
      "execution_count": 453,
      "outputs": [
        {
          "output_type": "execute_result",
          "data": {
            "text/plain": [
              "student_id                   int32\n",
              "city                      category\n",
              "city_development_index     float16\n",
              "gender                    category\n",
              "relevant_experience       category\n",
              "enrolled_university       category\n",
              "education_level           category\n",
              "major_discipline          category\n",
              "experience                category\n",
              "company_size              category\n",
              "company_type              category\n",
              "last_new_job              category\n",
              "training_hours               int32\n",
              "job_change                 float16\n",
              "dtype: object"
            ]
          },
          "metadata": {},
          "execution_count": 453
        }
      ]
    },
    {
      "source": [
        "ds_jobs_clean.last_new_job.dtype"
      ],
      "metadata": {
        "jupyter": {
          "outputs_hidden": false,
          "source_hidden": false
        },
        "executionTime": 102,
        "lastSuccessfullyExecutedCode": "ds_jobs_clean.last_new_job.dtype",
        "colab": {
          "base_uri": "https://localhost:8080/"
        },
        "id": "6b80d38b-bff5-411d-9b1b-d19eb891b076",
        "outputId": "1c2a3b54-8cbd-424e-87e6-40761d99eab9"
      },
      "cell_type": "code",
      "id": "6b80d38b-bff5-411d-9b1b-d19eb891b076",
      "execution_count": 454,
      "outputs": [
        {
          "output_type": "execute_result",
          "data": {
            "text/plain": [
              "CategoricalDtype(categories=['1', '2', '3', '4', '>4', 'never'], ordered=False)"
            ]
          },
          "metadata": {},
          "execution_count": 454
        }
      ]
    },
    {
      "source": [
        "ds_jobs_clean.head(10)"
      ],
      "metadata": {
        "jupyter": {
          "outputs_hidden": false,
          "source_hidden": false
        },
        "executionTime": 189,
        "lastSuccessfullyExecutedCode": "ds_jobs_clean.head(10)",
        "colab": {
          "base_uri": "https://localhost:8080/",
          "height": 363
        },
        "id": "c761d75a-4921-4e49-9be9-fc234bf61402",
        "outputId": "867337dd-df25-44ef-f49a-462b1c833a40"
      },
      "cell_type": "code",
      "id": "c761d75a-4921-4e49-9be9-fc234bf61402",
      "execution_count": 455,
      "outputs": [
        {
          "output_type": "execute_result",
          "data": {
            "text/plain": [
              "   student_id      city  city_development_index gender  \\\n",
              "0        8949  city_103                0.919922   Male   \n",
              "1       29725   city_40                0.775879   Male   \n",
              "2       11561   city_21                0.624023    NaN   \n",
              "3       33241  city_115                0.789062    NaN   \n",
              "4         666  city_162                0.767090   Male   \n",
              "5       21651  city_176                0.764160    NaN   \n",
              "6       28806  city_160                0.919922   Male   \n",
              "7         402   city_46                0.762207   Male   \n",
              "8       27107  city_103                0.919922   Male   \n",
              "9         699  city_103                0.919922    NaN   \n",
              "\n",
              "       relevant_experience enrolled_university education_level  \\\n",
              "0  Has relevant experience       no_enrollment        Graduate   \n",
              "1   No relevant experience       no_enrollment        Graduate   \n",
              "2   No relevant experience    Full time course        Graduate   \n",
              "3   No relevant experience                 NaN        Graduate   \n",
              "4  Has relevant experience       no_enrollment         Masters   \n",
              "5  Has relevant experience    Part time course        Graduate   \n",
              "6  Has relevant experience       no_enrollment     High School   \n",
              "7  Has relevant experience       no_enrollment        Graduate   \n",
              "8  Has relevant experience       no_enrollment        Graduate   \n",
              "9  Has relevant experience       no_enrollment        Graduate   \n",
              "\n",
              "  major_discipline experience company_size    company_type last_new_job  \\\n",
              "0             STEM        >20          NaN             NaN            1   \n",
              "1             STEM         15        50-99         Pvt Ltd           >4   \n",
              "2             STEM          5          NaN             NaN        never   \n",
              "3  Business Degree         <1          NaN         Pvt Ltd        never   \n",
              "4             STEM        >20        50-99  Funded Startup            4   \n",
              "5             STEM         11          NaN             NaN            1   \n",
              "6              NaN          5        50-99  Funded Startup            1   \n",
              "7             STEM         13          <10         Pvt Ltd           >4   \n",
              "8             STEM          7        50-99         Pvt Ltd            1   \n",
              "9             STEM         17       10000+         Pvt Ltd           >4   \n",
              "\n",
              "   training_hours  job_change  \n",
              "0              36         1.0  \n",
              "1              47         0.0  \n",
              "2              83         0.0  \n",
              "3              52         1.0  \n",
              "4               8         0.0  \n",
              "5              24         1.0  \n",
              "6              24         0.0  \n",
              "7              18         1.0  \n",
              "8              46         1.0  \n",
              "9             123         0.0  "
            ],
            "text/html": [
              "\n",
              "  <div id=\"df-d09c8415-6d98-4a4f-8003-7b8dbc8c9776\">\n",
              "    <div class=\"colab-df-container\">\n",
              "      <div>\n",
              "<style scoped>\n",
              "    .dataframe tbody tr th:only-of-type {\n",
              "        vertical-align: middle;\n",
              "    }\n",
              "\n",
              "    .dataframe tbody tr th {\n",
              "        vertical-align: top;\n",
              "    }\n",
              "\n",
              "    .dataframe thead th {\n",
              "        text-align: right;\n",
              "    }\n",
              "</style>\n",
              "<table border=\"1\" class=\"dataframe\">\n",
              "  <thead>\n",
              "    <tr style=\"text-align: right;\">\n",
              "      <th></th>\n",
              "      <th>student_id</th>\n",
              "      <th>city</th>\n",
              "      <th>city_development_index</th>\n",
              "      <th>gender</th>\n",
              "      <th>relevant_experience</th>\n",
              "      <th>enrolled_university</th>\n",
              "      <th>education_level</th>\n",
              "      <th>major_discipline</th>\n",
              "      <th>experience</th>\n",
              "      <th>company_size</th>\n",
              "      <th>company_type</th>\n",
              "      <th>last_new_job</th>\n",
              "      <th>training_hours</th>\n",
              "      <th>job_change</th>\n",
              "    </tr>\n",
              "  </thead>\n",
              "  <tbody>\n",
              "    <tr>\n",
              "      <th>0</th>\n",
              "      <td>8949</td>\n",
              "      <td>city_103</td>\n",
              "      <td>0.919922</td>\n",
              "      <td>Male</td>\n",
              "      <td>Has relevant experience</td>\n",
              "      <td>no_enrollment</td>\n",
              "      <td>Graduate</td>\n",
              "      <td>STEM</td>\n",
              "      <td>&gt;20</td>\n",
              "      <td>NaN</td>\n",
              "      <td>NaN</td>\n",
              "      <td>1</td>\n",
              "      <td>36</td>\n",
              "      <td>1.0</td>\n",
              "    </tr>\n",
              "    <tr>\n",
              "      <th>1</th>\n",
              "      <td>29725</td>\n",
              "      <td>city_40</td>\n",
              "      <td>0.775879</td>\n",
              "      <td>Male</td>\n",
              "      <td>No relevant experience</td>\n",
              "      <td>no_enrollment</td>\n",
              "      <td>Graduate</td>\n",
              "      <td>STEM</td>\n",
              "      <td>15</td>\n",
              "      <td>50-99</td>\n",
              "      <td>Pvt Ltd</td>\n",
              "      <td>&gt;4</td>\n",
              "      <td>47</td>\n",
              "      <td>0.0</td>\n",
              "    </tr>\n",
              "    <tr>\n",
              "      <th>2</th>\n",
              "      <td>11561</td>\n",
              "      <td>city_21</td>\n",
              "      <td>0.624023</td>\n",
              "      <td>NaN</td>\n",
              "      <td>No relevant experience</td>\n",
              "      <td>Full time course</td>\n",
              "      <td>Graduate</td>\n",
              "      <td>STEM</td>\n",
              "      <td>5</td>\n",
              "      <td>NaN</td>\n",
              "      <td>NaN</td>\n",
              "      <td>never</td>\n",
              "      <td>83</td>\n",
              "      <td>0.0</td>\n",
              "    </tr>\n",
              "    <tr>\n",
              "      <th>3</th>\n",
              "      <td>33241</td>\n",
              "      <td>city_115</td>\n",
              "      <td>0.789062</td>\n",
              "      <td>NaN</td>\n",
              "      <td>No relevant experience</td>\n",
              "      <td>NaN</td>\n",
              "      <td>Graduate</td>\n",
              "      <td>Business Degree</td>\n",
              "      <td>&lt;1</td>\n",
              "      <td>NaN</td>\n",
              "      <td>Pvt Ltd</td>\n",
              "      <td>never</td>\n",
              "      <td>52</td>\n",
              "      <td>1.0</td>\n",
              "    </tr>\n",
              "    <tr>\n",
              "      <th>4</th>\n",
              "      <td>666</td>\n",
              "      <td>city_162</td>\n",
              "      <td>0.767090</td>\n",
              "      <td>Male</td>\n",
              "      <td>Has relevant experience</td>\n",
              "      <td>no_enrollment</td>\n",
              "      <td>Masters</td>\n",
              "      <td>STEM</td>\n",
              "      <td>&gt;20</td>\n",
              "      <td>50-99</td>\n",
              "      <td>Funded Startup</td>\n",
              "      <td>4</td>\n",
              "      <td>8</td>\n",
              "      <td>0.0</td>\n",
              "    </tr>\n",
              "    <tr>\n",
              "      <th>5</th>\n",
              "      <td>21651</td>\n",
              "      <td>city_176</td>\n",
              "      <td>0.764160</td>\n",
              "      <td>NaN</td>\n",
              "      <td>Has relevant experience</td>\n",
              "      <td>Part time course</td>\n",
              "      <td>Graduate</td>\n",
              "      <td>STEM</td>\n",
              "      <td>11</td>\n",
              "      <td>NaN</td>\n",
              "      <td>NaN</td>\n",
              "      <td>1</td>\n",
              "      <td>24</td>\n",
              "      <td>1.0</td>\n",
              "    </tr>\n",
              "    <tr>\n",
              "      <th>6</th>\n",
              "      <td>28806</td>\n",
              "      <td>city_160</td>\n",
              "      <td>0.919922</td>\n",
              "      <td>Male</td>\n",
              "      <td>Has relevant experience</td>\n",
              "      <td>no_enrollment</td>\n",
              "      <td>High School</td>\n",
              "      <td>NaN</td>\n",
              "      <td>5</td>\n",
              "      <td>50-99</td>\n",
              "      <td>Funded Startup</td>\n",
              "      <td>1</td>\n",
              "      <td>24</td>\n",
              "      <td>0.0</td>\n",
              "    </tr>\n",
              "    <tr>\n",
              "      <th>7</th>\n",
              "      <td>402</td>\n",
              "      <td>city_46</td>\n",
              "      <td>0.762207</td>\n",
              "      <td>Male</td>\n",
              "      <td>Has relevant experience</td>\n",
              "      <td>no_enrollment</td>\n",
              "      <td>Graduate</td>\n",
              "      <td>STEM</td>\n",
              "      <td>13</td>\n",
              "      <td>&lt;10</td>\n",
              "      <td>Pvt Ltd</td>\n",
              "      <td>&gt;4</td>\n",
              "      <td>18</td>\n",
              "      <td>1.0</td>\n",
              "    </tr>\n",
              "    <tr>\n",
              "      <th>8</th>\n",
              "      <td>27107</td>\n",
              "      <td>city_103</td>\n",
              "      <td>0.919922</td>\n",
              "      <td>Male</td>\n",
              "      <td>Has relevant experience</td>\n",
              "      <td>no_enrollment</td>\n",
              "      <td>Graduate</td>\n",
              "      <td>STEM</td>\n",
              "      <td>7</td>\n",
              "      <td>50-99</td>\n",
              "      <td>Pvt Ltd</td>\n",
              "      <td>1</td>\n",
              "      <td>46</td>\n",
              "      <td>1.0</td>\n",
              "    </tr>\n",
              "    <tr>\n",
              "      <th>9</th>\n",
              "      <td>699</td>\n",
              "      <td>city_103</td>\n",
              "      <td>0.919922</td>\n",
              "      <td>NaN</td>\n",
              "      <td>Has relevant experience</td>\n",
              "      <td>no_enrollment</td>\n",
              "      <td>Graduate</td>\n",
              "      <td>STEM</td>\n",
              "      <td>17</td>\n",
              "      <td>10000+</td>\n",
              "      <td>Pvt Ltd</td>\n",
              "      <td>&gt;4</td>\n",
              "      <td>123</td>\n",
              "      <td>0.0</td>\n",
              "    </tr>\n",
              "  </tbody>\n",
              "</table>\n",
              "</div>\n",
              "      <button class=\"colab-df-convert\" onclick=\"convertToInteractive('df-d09c8415-6d98-4a4f-8003-7b8dbc8c9776')\"\n",
              "              title=\"Convert this dataframe to an interactive table.\"\n",
              "              style=\"display:none;\">\n",
              "        \n",
              "  <svg xmlns=\"http://www.w3.org/2000/svg\" height=\"24px\"viewBox=\"0 0 24 24\"\n",
              "       width=\"24px\">\n",
              "    <path d=\"M0 0h24v24H0V0z\" fill=\"none\"/>\n",
              "    <path d=\"M18.56 5.44l.94 2.06.94-2.06 2.06-.94-2.06-.94-.94-2.06-.94 2.06-2.06.94zm-11 1L8.5 8.5l.94-2.06 2.06-.94-2.06-.94L8.5 2.5l-.94 2.06-2.06.94zm10 10l.94 2.06.94-2.06 2.06-.94-2.06-.94-.94-2.06-.94 2.06-2.06.94z\"/><path d=\"M17.41 7.96l-1.37-1.37c-.4-.4-.92-.59-1.43-.59-.52 0-1.04.2-1.43.59L10.3 9.45l-7.72 7.72c-.78.78-.78 2.05 0 2.83L4 21.41c.39.39.9.59 1.41.59.51 0 1.02-.2 1.41-.59l7.78-7.78 2.81-2.81c.8-.78.8-2.07 0-2.86zM5.41 20L4 18.59l7.72-7.72 1.47 1.35L5.41 20z\"/>\n",
              "  </svg>\n",
              "      </button>\n",
              "      \n",
              "  <style>\n",
              "    .colab-df-container {\n",
              "      display:flex;\n",
              "      flex-wrap:wrap;\n",
              "      gap: 12px;\n",
              "    }\n",
              "\n",
              "    .colab-df-convert {\n",
              "      background-color: #E8F0FE;\n",
              "      border: none;\n",
              "      border-radius: 50%;\n",
              "      cursor: pointer;\n",
              "      display: none;\n",
              "      fill: #1967D2;\n",
              "      height: 32px;\n",
              "      padding: 0 0 0 0;\n",
              "      width: 32px;\n",
              "    }\n",
              "\n",
              "    .colab-df-convert:hover {\n",
              "      background-color: #E2EBFA;\n",
              "      box-shadow: 0px 1px 2px rgba(60, 64, 67, 0.3), 0px 1px 3px 1px rgba(60, 64, 67, 0.15);\n",
              "      fill: #174EA6;\n",
              "    }\n",
              "\n",
              "    [theme=dark] .colab-df-convert {\n",
              "      background-color: #3B4455;\n",
              "      fill: #D2E3FC;\n",
              "    }\n",
              "\n",
              "    [theme=dark] .colab-df-convert:hover {\n",
              "      background-color: #434B5C;\n",
              "      box-shadow: 0px 1px 3px 1px rgba(0, 0, 0, 0.15);\n",
              "      filter: drop-shadow(0px 1px 2px rgba(0, 0, 0, 0.3));\n",
              "      fill: #FFFFFF;\n",
              "    }\n",
              "  </style>\n",
              "\n",
              "      <script>\n",
              "        const buttonEl =\n",
              "          document.querySelector('#df-d09c8415-6d98-4a4f-8003-7b8dbc8c9776 button.colab-df-convert');\n",
              "        buttonEl.style.display =\n",
              "          google.colab.kernel.accessAllowed ? 'block' : 'none';\n",
              "\n",
              "        async function convertToInteractive(key) {\n",
              "          const element = document.querySelector('#df-d09c8415-6d98-4a4f-8003-7b8dbc8c9776');\n",
              "          const dataTable =\n",
              "            await google.colab.kernel.invokeFunction('convertToInteractive',\n",
              "                                                     [key], {});\n",
              "          if (!dataTable) return;\n",
              "\n",
              "          const docLinkHtml = 'Like what you see? Visit the ' +\n",
              "            '<a target=\"_blank\" href=https://colab.research.google.com/notebooks/data_table.ipynb>data table notebook</a>'\n",
              "            + ' to learn more about interactive tables.';\n",
              "          element.innerHTML = '';\n",
              "          dataTable['output_type'] = 'display_data';\n",
              "          await google.colab.output.renderOutput(dataTable, element);\n",
              "          const docLink = document.createElement('div');\n",
              "          docLink.innerHTML = docLinkHtml;\n",
              "          element.appendChild(docLink);\n",
              "        }\n",
              "      </script>\n",
              "    </div>\n",
              "  </div>\n",
              "  "
            ]
          },
          "metadata": {},
          "execution_count": 455
        }
      ]
    },
    {
      "source": [
        "some categorical columns need to be ordered i.e ordinal variables which are variables that has a natural or an inherent ordering to them.\n",
        "Ordering the following columns:\n",
        "\n",
        "relevant_experience\n",
        "enrolled_university\n",
        "education_level\n",
        "experience\n",
        "company_size\n",
        "last_new_job\n"
      ],
      "metadata": {
        "id": "d39e318f-1e87-4d26-a66d-67032852e4b6"
      },
      "cell_type": "markdown",
      "id": "d39e318f-1e87-4d26-a66d-67032852e4b6"
    },
    {
      "source": [
        "ds_jobs_clean.relevant_experience.dtype"
      ],
      "metadata": {
        "jupyter": {
          "outputs_hidden": false,
          "source_hidden": false
        },
        "executionTime": 109,
        "lastSuccessfullyExecutedCode": "ds_jobs_clean.relevant_experience.dtype",
        "colab": {
          "base_uri": "https://localhost:8080/"
        },
        "id": "8aee45f1-8a09-4a86-9b3e-ebb6900f0dcc",
        "outputId": "80539be3-aa46-4051-cbd7-48ca71922724"
      },
      "cell_type": "code",
      "id": "8aee45f1-8a09-4a86-9b3e-ebb6900f0dcc",
      "execution_count": 456,
      "outputs": [
        {
          "output_type": "execute_result",
          "data": {
            "text/plain": [
              "CategoricalDtype(categories=['Has relevant experience', 'No relevant experience'], ordered=False)"
            ]
          },
          "metadata": {},
          "execution_count": 456
        }
      ]
    },
    {
      "source": [
        "relevance_exp_order = ['No relevant experience','Has relevant experience']\n",
        "ds_jobs_clean[\"relevant_experience\"].cat.reorder_categories(relevance_exp_order, ordered=True, inplace=True)"
      ],
      "metadata": {
        "jupyter": {
          "outputs_hidden": false,
          "source_hidden": false
        },
        "executionTime": 0,
        "lastSuccessfullyExecutedCode": "relevance_exp_order = ['No relevant experience','Has relevant experience']\nds_jobs_clean[\"relevant_experience\"].cat.reorder_categories(relevance_exp_order, ordered=True, inplace=True)",
        "colab": {
          "base_uri": "https://localhost:8080/"
        },
        "id": "ea1a32e0-38fd-4b06-9dbb-b43973aa1e6e",
        "outputId": "e428ba54-03dd-45de-a4af-e837c9cb1151"
      },
      "cell_type": "code",
      "id": "ea1a32e0-38fd-4b06-9dbb-b43973aa1e6e",
      "execution_count": 482,
      "outputs": [
        {
          "output_type": "stream",
          "name": "stderr",
          "text": [
            "<ipython-input-482-9a0abc7d2a6c>:2: FutureWarning: The `inplace` parameter in pandas.Categorical.reorder_categories is deprecated and will be removed in a future version. Reordering categories will always return a new Categorical object.\n",
            "  ds_jobs_clean[\"relevant_experience\"].cat.reorder_categories(relevance_exp_order, ordered=True, inplace=True)\n"
          ]
        }
      ]
    },
    {
      "source": [
        "uni_enrol_order = ['no_enrollment', 'Part time course', 'Full time course']\n",
        "ds_jobs_clean[\"enrolled_university\"].cat.reorder_categories(uni_enrol_order, ordered=True, inplace=True)"
      ],
      "metadata": {
        "jupyter": {
          "outputs_hidden": false,
          "source_hidden": false
        },
        "executionTime": 0,
        "lastSuccessfullyExecutedCode": "uni_enrol_order = ['no_enrollment', 'Part time course', 'Full time course']\nds_jobs_clean[\"enrolled_university\"].cat.reorder_categories(uni_enrol_order, ordered=True, inplace=True)",
        "colab": {
          "base_uri": "https://localhost:8080/"
        },
        "id": "2a665b97-22de-44b1-8953-3ca96263c69e",
        "outputId": "2696ea85-3848-4ad4-8467-aaf7a80123ca"
      },
      "cell_type": "code",
      "id": "2a665b97-22de-44b1-8953-3ca96263c69e",
      "execution_count": 483,
      "outputs": [
        {
          "output_type": "stream",
          "name": "stderr",
          "text": [
            "<ipython-input-483-245ed0621be1>:2: FutureWarning: The `inplace` parameter in pandas.Categorical.reorder_categories is deprecated and will be removed in a future version. Reordering categories will always return a new Categorical object.\n",
            "  ds_jobs_clean[\"enrolled_university\"].cat.reorder_categories(uni_enrol_order, ordered=True, inplace=True)\n"
          ]
        }
      ]
    },
    {
      "source": [
        "educ_order = [\"Primary School\", \"High School\", \"Graduate\", \"Masters\",  \"Phd\"]\n",
        "ds_jobs_clean[\"education_level\"].cat.reorder_categories(educ_order, ordered=True, inplace=True)"
      ],
      "metadata": {
        "jupyter": {
          "outputs_hidden": false,
          "source_hidden": false
        },
        "executionTime": 0,
        "lastSuccessfullyExecutedCode": "educ_order = [\"Primary School\", \"High School\", \"Graduate\", \"Masters\",  \"Phd\"]\nds_jobs_clean[\"education_level\"].cat.reorder_categories(educ_order, ordered=True, inplace=True)",
        "colab": {
          "base_uri": "https://localhost:8080/"
        },
        "id": "bc546b1e-bc08-4926-bfbc-9603b413a549",
        "outputId": "4e51ab19-eee1-49c2-a2b8-e3c3dc0105ae"
      },
      "cell_type": "code",
      "id": "bc546b1e-bc08-4926-bfbc-9603b413a549",
      "execution_count": 459,
      "outputs": [
        {
          "output_type": "stream",
          "name": "stderr",
          "text": [
            "<ipython-input-459-8055f237616f>:2: FutureWarning: The `inplace` parameter in pandas.Categorical.reorder_categories is deprecated and will be removed in a future version. Reordering categories will always return a new Categorical object.\n",
            "  ds_jobs_clean[\"education_level\"].cat.reorder_categories(educ_order, ordered=True, inplace=True)\n"
          ]
        }
      ]
    },
    {
      "source": [
        "expe_order = [ '<1', '1', '10', '11', '12', '13', '14', '15', '16', '17', '18',\n",
        "                  '19', '2', '20', '3', '4', '5', '6', '7', '8', '9',\n",
        "                  '>20']\n",
        "ds_jobs_clean[\"experience\"].cat.reorder_categories(expe_order, ordered=True, inplace=True)"
      ],
      "metadata": {
        "jupyter": {
          "outputs_hidden": false,
          "source_hidden": false
        },
        "executionTime": 0,
        "lastSuccessfullyExecutedCode": "expe_order = [ '<1', '1', '10', '11', '12', '13', '14', '15', '16', '17', '18',\n                  '19', '2', '20', '3', '4', '5', '6', '7', '8', '9',\n                  '>20']\nds_jobs_clean[\"experience\"].cat.reorder_categories(expe_order, ordered=True, inplace=True)",
        "colab": {
          "base_uri": "https://localhost:8080/"
        },
        "id": "c124d6a7-2300-4268-b9f4-78b7f88cf646",
        "outputId": "9a63a6c4-9a55-4aa7-f234-df2a8ab1983e"
      },
      "cell_type": "code",
      "id": "c124d6a7-2300-4268-b9f4-78b7f88cf646",
      "execution_count": 460,
      "outputs": [
        {
          "output_type": "stream",
          "name": "stderr",
          "text": [
            "<ipython-input-460-1ba64eb6222b>:4: FutureWarning: The `inplace` parameter in pandas.Categorical.reorder_categories is deprecated and will be removed in a future version. Reordering categories will always return a new Categorical object.\n",
            "  ds_jobs_clean[\"experience\"].cat.reorder_categories(expe_order, ordered=True, inplace=True)\n"
          ]
        }
      ]
    },
    {
      "source": [
        "company_size_order  = [\"<10\", \"10-49\", \"50-99\", \"100-499\", \"500-999\", \"1000-4999\",\"5000-9999\", \"10000+\"]\n",
        "ds_jobs_clean[\"company_size\"].cat.reorder_categories(company_size_order, ordered=True, inplace=True)"
      ],
      "cell_type": "code",
      "id": "e77c15cd-5527-4c8d-96ab-2d56e2ac4088",
      "outputs": [
        {
          "output_type": "stream",
          "name": "stderr",
          "text": [
            "<ipython-input-461-fd73b096b133>:2: FutureWarning: The `inplace` parameter in pandas.Categorical.reorder_categories is deprecated and will be removed in a future version. Reordering categories will always return a new Categorical object.\n",
            "  ds_jobs_clean[\"company_size\"].cat.reorder_categories(company_size_order, ordered=True, inplace=True)\n"
          ]
        }
      ],
      "execution_count": 461,
      "metadata": {
        "jupyter": {
          "outputs_hidden": false,
          "source_hidden": false
        },
        "executionTime": 0,
        "lastSuccessfullyExecutedCode": "company_size_order  = [\"<10\", \"10-49\", \"50-99\", \"100-499\", \"500-999\", \"1000-4999\",\"5000-9999\", \"10000+\"]\nds_jobs_clean[\"company_size\"].cat.reorder_categories(company_size_order, ordered=True, inplace=True)",
        "colab": {
          "base_uri": "https://localhost:8080/"
        },
        "id": "e77c15cd-5527-4c8d-96ab-2d56e2ac4088",
        "outputId": "34064aab-0f51-47fc-cdb7-908ef89cb0c5"
      }
    },
    {
      "source": [
        "last_new_job_order =['1', '2', '3', '4', '>4', 'never']\n",
        "ds_jobs_clean[\"last_new_job\"].cat.reorder_categories(last_new_job_order, ordered=True, inplace=True)"
      ],
      "metadata": {
        "jupyter": {
          "outputs_hidden": false,
          "source_hidden": false
        },
        "executionTime": 0,
        "lastSuccessfullyExecutedCode": "last_new_job_order =['1', '2', '3', '4', '>4', 'never']\nds_jobs_clean[\"last_new_job\"].cat.reorder_categories(last_new_job_order, ordered=True, inplace=True)",
        "colab": {
          "base_uri": "https://localhost:8080/"
        },
        "id": "829fd3e1-2aaa-4369-abce-e069bb92c288",
        "outputId": "7f563004-3042-4cde-e338-382f6ee8fa60"
      },
      "cell_type": "code",
      "id": "829fd3e1-2aaa-4369-abce-e069bb92c288",
      "execution_count": 462,
      "outputs": [
        {
          "output_type": "stream",
          "name": "stderr",
          "text": [
            "<ipython-input-462-60cb3917c1f0>:2: FutureWarning: The `inplace` parameter in pandas.Categorical.reorder_categories is deprecated and will be removed in a future version. Reordering categories will always return a new Categorical object.\n",
            "  ds_jobs_clean[\"last_new_job\"].cat.reorder_categories(last_new_job_order, ordered=True, inplace=True)\n"
          ]
        }
      ]
    },
    {
      "source": [
        "checking dtypes again"
      ],
      "metadata": {
        "id": "6a23755c-1e09-49e6-92ce-591668196627"
      },
      "cell_type": "markdown",
      "id": "6a23755c-1e09-49e6-92ce-591668196627"
    },
    {
      "source": [
        "ds_jobs_clean.last_new_job.dtype"
      ],
      "metadata": {
        "jupyter": {
          "outputs_hidden": false,
          "source_hidden": false
        },
        "executionTime": 105,
        "lastSuccessfullyExecutedCode": "ds_jobs_clean.last_new_job.dtype",
        "colab": {
          "base_uri": "https://localhost:8080/"
        },
        "id": "d36a7b38-32d9-4060-880d-0e1ad704cf91",
        "outputId": "28aeec3c-9bdb-47c9-b30d-eea5be04c828"
      },
      "cell_type": "code",
      "id": "d36a7b38-32d9-4060-880d-0e1ad704cf91",
      "execution_count": 463,
      "outputs": [
        {
          "output_type": "execute_result",
          "data": {
            "text/plain": [
              "CategoricalDtype(categories=['1', '2', '3', '4', '>4', 'never'], ordered=True)"
            ]
          },
          "metadata": {},
          "execution_count": 463
        }
      ]
    },
    {
      "source": [
        "filtering the dataframe for students with 10 OR more years of experience at companies with at least 1000\n",
        "the column of intrest are experience which tells the estimated years a student has spent working and company size that tells how many employees has a company."
      ],
      "metadata": {
        "id": "c36ef20f-8f28-4d8c-bf7e-2d5124f7d694"
      },
      "cell_type": "markdown",
      "id": "c36ef20f-8f28-4d8c-bf7e-2d5124f7d694"
    },
    {
      "source": [
        "experience_list = [\"10\",\"11\",\"12\",\"13\",\"14\",\"15\",\"16\",\"17\",\"18\",\"19\",\">20\"]\n",
        "over_1k_employees = [\"1000-4999\",\"5000-9999\", \"10000+\"]"
      ],
      "metadata": {
        "jupyter": {
          "outputs_hidden": false,
          "source_hidden": false
        },
        "executionTime": 0,
        "lastSuccessfullyExecutedCode": "experience_list = [\"10\",\"11\",\"12\",\"13\",\"14\",\"15\",\"16\",\"17\",\"18\",\"19\",\">20\"]\nover_1k_employees = [\"1000-4999\",\"5000-9999\", \"10000+\"]",
        "id": "9cdd1e47-bd22-47f3-a23d-9e729940ed86"
      },
      "cell_type": "code",
      "id": "9cdd1e47-bd22-47f3-a23d-9e729940ed86",
      "execution_count": 464,
      "outputs": []
    },
    {
      "source": [],
      "metadata": {
        "id": "a7ed233d-b7b5-4a31-8e33-b687aa096d69"
      },
      "cell_type": "markdown",
      "id": "a7ed233d-b7b5-4a31-8e33-b687aa096d69"
    },
    {
      "source": [
        "ds_jobs_clean[ds_jobs_clean[\"experience\"].isin(experience_list)]\n",
        "ds_jobs_clean[ds_jobs_clean[\"company_size\"].isin(over_1k_employees)]\n",
        "\n",
        "\n"
      ],
      "metadata": {
        "jupyter": {
          "outputs_hidden": false,
          "source_hidden": false
        },
        "executionTime": 463,
        "lastSuccessfullyExecutedCode": "ds_jobs_clean[ds_jobs_clean[\"experience\"].isin(experience_list)]\nds_jobs_clean[ds_jobs_clean[\"company_size\"].isin(over_1k_employees)]\n\n\n",
        "colab": {
          "base_uri": "https://localhost:8080/",
          "height": 424
        },
        "id": "d7f753d7-35d5-4290-98f7-89113e62c118",
        "outputId": "bf51c775-edcd-4617-f97a-9ff0074be796"
      },
      "cell_type": "code",
      "id": "d7f753d7-35d5-4290-98f7-89113e62c118",
      "execution_count": 465,
      "outputs": [
        {
          "output_type": "execute_result",
          "data": {
            "text/plain": [
              "       student_id      city  city_development_index gender  \\\n",
              "9             699  city_103                0.919922    NaN   \n",
              "11          23853  city_103                0.919922   Male   \n",
              "12          25619   city_61                0.913086   Male   \n",
              "17           5764   city_21                0.624023    NaN   \n",
              "18           2156   city_21                0.624023    NaN   \n",
              "...           ...       ...                     ...    ...   \n",
              "19108       15038   city_16                0.910156   Male   \n",
              "19127         549   city_80                0.847168   Male   \n",
              "19128        3365   city_16                0.910156    NaN   \n",
              "19131       18072  city_116                0.743164   Male   \n",
              "19143       33047  city_103                0.919922   Male   \n",
              "\n",
              "           relevant_experience enrolled_university education_level  \\\n",
              "9      Has relevant experience       no_enrollment        Graduate   \n",
              "11     Has relevant experience       no_enrollment        Graduate   \n",
              "12     Has relevant experience       no_enrollment        Graduate   \n",
              "17     Has relevant experience       no_enrollment        Graduate   \n",
              "18     Has relevant experience       no_enrollment        Graduate   \n",
              "...                        ...                 ...             ...   \n",
              "19108  Has relevant experience       no_enrollment        Graduate   \n",
              "19127  Has relevant experience       no_enrollment        Graduate   \n",
              "19128  Has relevant experience       no_enrollment        Graduate   \n",
              "19131   No relevant experience       no_enrollment         Masters   \n",
              "19143  Has relevant experience       no_enrollment        Graduate   \n",
              "\n",
              "      major_discipline experience company_size   company_type last_new_job  \\\n",
              "9                 STEM         17       10000+        Pvt Ltd           >4   \n",
              "11                STEM          5    5000-9999        Pvt Ltd            1   \n",
              "12                STEM        >20    1000-4999        Pvt Ltd            3   \n",
              "17                STEM          2    5000-9999        Pvt Ltd            2   \n",
              "18                STEM          7       10000+        Pvt Ltd        never   \n",
              "...                ...        ...          ...            ...          ...   \n",
              "19108             STEM          8    1000-4999        Pvt Ltd            3   \n",
              "19127             STEM          8       10000+  Public Sector            1   \n",
              "19128       Humanities        >20    1000-4999        Pvt Ltd           >4   \n",
              "19131             STEM          8       10000+            NaN            1   \n",
              "19143             STEM        >20       10000+        Pvt Ltd           >4   \n",
              "\n",
              "       training_hours  job_change  \n",
              "9                 123         0.0  \n",
              "11                108         0.0  \n",
              "12                 23         0.0  \n",
              "17                  7         0.0  \n",
              "18                 23         1.0  \n",
              "...               ...         ...  \n",
              "19108              34         0.0  \n",
              "19127              10         1.0  \n",
              "19128              23         0.0  \n",
              "19131              48         0.0  \n",
              "19143              18         0.0  \n",
              "\n",
              "[3910 rows x 14 columns]"
            ],
            "text/html": [
              "\n",
              "  <div id=\"df-8a6f1058-f986-4ded-bb07-9f5d10e08300\">\n",
              "    <div class=\"colab-df-container\">\n",
              "      <div>\n",
              "<style scoped>\n",
              "    .dataframe tbody tr th:only-of-type {\n",
              "        vertical-align: middle;\n",
              "    }\n",
              "\n",
              "    .dataframe tbody tr th {\n",
              "        vertical-align: top;\n",
              "    }\n",
              "\n",
              "    .dataframe thead th {\n",
              "        text-align: right;\n",
              "    }\n",
              "</style>\n",
              "<table border=\"1\" class=\"dataframe\">\n",
              "  <thead>\n",
              "    <tr style=\"text-align: right;\">\n",
              "      <th></th>\n",
              "      <th>student_id</th>\n",
              "      <th>city</th>\n",
              "      <th>city_development_index</th>\n",
              "      <th>gender</th>\n",
              "      <th>relevant_experience</th>\n",
              "      <th>enrolled_university</th>\n",
              "      <th>education_level</th>\n",
              "      <th>major_discipline</th>\n",
              "      <th>experience</th>\n",
              "      <th>company_size</th>\n",
              "      <th>company_type</th>\n",
              "      <th>last_new_job</th>\n",
              "      <th>training_hours</th>\n",
              "      <th>job_change</th>\n",
              "    </tr>\n",
              "  </thead>\n",
              "  <tbody>\n",
              "    <tr>\n",
              "      <th>9</th>\n",
              "      <td>699</td>\n",
              "      <td>city_103</td>\n",
              "      <td>0.919922</td>\n",
              "      <td>NaN</td>\n",
              "      <td>Has relevant experience</td>\n",
              "      <td>no_enrollment</td>\n",
              "      <td>Graduate</td>\n",
              "      <td>STEM</td>\n",
              "      <td>17</td>\n",
              "      <td>10000+</td>\n",
              "      <td>Pvt Ltd</td>\n",
              "      <td>&gt;4</td>\n",
              "      <td>123</td>\n",
              "      <td>0.0</td>\n",
              "    </tr>\n",
              "    <tr>\n",
              "      <th>11</th>\n",
              "      <td>23853</td>\n",
              "      <td>city_103</td>\n",
              "      <td>0.919922</td>\n",
              "      <td>Male</td>\n",
              "      <td>Has relevant experience</td>\n",
              "      <td>no_enrollment</td>\n",
              "      <td>Graduate</td>\n",
              "      <td>STEM</td>\n",
              "      <td>5</td>\n",
              "      <td>5000-9999</td>\n",
              "      <td>Pvt Ltd</td>\n",
              "      <td>1</td>\n",
              "      <td>108</td>\n",
              "      <td>0.0</td>\n",
              "    </tr>\n",
              "    <tr>\n",
              "      <th>12</th>\n",
              "      <td>25619</td>\n",
              "      <td>city_61</td>\n",
              "      <td>0.913086</td>\n",
              "      <td>Male</td>\n",
              "      <td>Has relevant experience</td>\n",
              "      <td>no_enrollment</td>\n",
              "      <td>Graduate</td>\n",
              "      <td>STEM</td>\n",
              "      <td>&gt;20</td>\n",
              "      <td>1000-4999</td>\n",
              "      <td>Pvt Ltd</td>\n",
              "      <td>3</td>\n",
              "      <td>23</td>\n",
              "      <td>0.0</td>\n",
              "    </tr>\n",
              "    <tr>\n",
              "      <th>17</th>\n",
              "      <td>5764</td>\n",
              "      <td>city_21</td>\n",
              "      <td>0.624023</td>\n",
              "      <td>NaN</td>\n",
              "      <td>Has relevant experience</td>\n",
              "      <td>no_enrollment</td>\n",
              "      <td>Graduate</td>\n",
              "      <td>STEM</td>\n",
              "      <td>2</td>\n",
              "      <td>5000-9999</td>\n",
              "      <td>Pvt Ltd</td>\n",
              "      <td>2</td>\n",
              "      <td>7</td>\n",
              "      <td>0.0</td>\n",
              "    </tr>\n",
              "    <tr>\n",
              "      <th>18</th>\n",
              "      <td>2156</td>\n",
              "      <td>city_21</td>\n",
              "      <td>0.624023</td>\n",
              "      <td>NaN</td>\n",
              "      <td>Has relevant experience</td>\n",
              "      <td>no_enrollment</td>\n",
              "      <td>Graduate</td>\n",
              "      <td>STEM</td>\n",
              "      <td>7</td>\n",
              "      <td>10000+</td>\n",
              "      <td>Pvt Ltd</td>\n",
              "      <td>never</td>\n",
              "      <td>23</td>\n",
              "      <td>1.0</td>\n",
              "    </tr>\n",
              "    <tr>\n",
              "      <th>...</th>\n",
              "      <td>...</td>\n",
              "      <td>...</td>\n",
              "      <td>...</td>\n",
              "      <td>...</td>\n",
              "      <td>...</td>\n",
              "      <td>...</td>\n",
              "      <td>...</td>\n",
              "      <td>...</td>\n",
              "      <td>...</td>\n",
              "      <td>...</td>\n",
              "      <td>...</td>\n",
              "      <td>...</td>\n",
              "      <td>...</td>\n",
              "      <td>...</td>\n",
              "    </tr>\n",
              "    <tr>\n",
              "      <th>19108</th>\n",
              "      <td>15038</td>\n",
              "      <td>city_16</td>\n",
              "      <td>0.910156</td>\n",
              "      <td>Male</td>\n",
              "      <td>Has relevant experience</td>\n",
              "      <td>no_enrollment</td>\n",
              "      <td>Graduate</td>\n",
              "      <td>STEM</td>\n",
              "      <td>8</td>\n",
              "      <td>1000-4999</td>\n",
              "      <td>Pvt Ltd</td>\n",
              "      <td>3</td>\n",
              "      <td>34</td>\n",
              "      <td>0.0</td>\n",
              "    </tr>\n",
              "    <tr>\n",
              "      <th>19127</th>\n",
              "      <td>549</td>\n",
              "      <td>city_80</td>\n",
              "      <td>0.847168</td>\n",
              "      <td>Male</td>\n",
              "      <td>Has relevant experience</td>\n",
              "      <td>no_enrollment</td>\n",
              "      <td>Graduate</td>\n",
              "      <td>STEM</td>\n",
              "      <td>8</td>\n",
              "      <td>10000+</td>\n",
              "      <td>Public Sector</td>\n",
              "      <td>1</td>\n",
              "      <td>10</td>\n",
              "      <td>1.0</td>\n",
              "    </tr>\n",
              "    <tr>\n",
              "      <th>19128</th>\n",
              "      <td>3365</td>\n",
              "      <td>city_16</td>\n",
              "      <td>0.910156</td>\n",
              "      <td>NaN</td>\n",
              "      <td>Has relevant experience</td>\n",
              "      <td>no_enrollment</td>\n",
              "      <td>Graduate</td>\n",
              "      <td>Humanities</td>\n",
              "      <td>&gt;20</td>\n",
              "      <td>1000-4999</td>\n",
              "      <td>Pvt Ltd</td>\n",
              "      <td>&gt;4</td>\n",
              "      <td>23</td>\n",
              "      <td>0.0</td>\n",
              "    </tr>\n",
              "    <tr>\n",
              "      <th>19131</th>\n",
              "      <td>18072</td>\n",
              "      <td>city_116</td>\n",
              "      <td>0.743164</td>\n",
              "      <td>Male</td>\n",
              "      <td>No relevant experience</td>\n",
              "      <td>no_enrollment</td>\n",
              "      <td>Masters</td>\n",
              "      <td>STEM</td>\n",
              "      <td>8</td>\n",
              "      <td>10000+</td>\n",
              "      <td>NaN</td>\n",
              "      <td>1</td>\n",
              "      <td>48</td>\n",
              "      <td>0.0</td>\n",
              "    </tr>\n",
              "    <tr>\n",
              "      <th>19143</th>\n",
              "      <td>33047</td>\n",
              "      <td>city_103</td>\n",
              "      <td>0.919922</td>\n",
              "      <td>Male</td>\n",
              "      <td>Has relevant experience</td>\n",
              "      <td>no_enrollment</td>\n",
              "      <td>Graduate</td>\n",
              "      <td>STEM</td>\n",
              "      <td>&gt;20</td>\n",
              "      <td>10000+</td>\n",
              "      <td>Pvt Ltd</td>\n",
              "      <td>&gt;4</td>\n",
              "      <td>18</td>\n",
              "      <td>0.0</td>\n",
              "    </tr>\n",
              "  </tbody>\n",
              "</table>\n",
              "<p>3910 rows × 14 columns</p>\n",
              "</div>\n",
              "      <button class=\"colab-df-convert\" onclick=\"convertToInteractive('df-8a6f1058-f986-4ded-bb07-9f5d10e08300')\"\n",
              "              title=\"Convert this dataframe to an interactive table.\"\n",
              "              style=\"display:none;\">\n",
              "        \n",
              "  <svg xmlns=\"http://www.w3.org/2000/svg\" height=\"24px\"viewBox=\"0 0 24 24\"\n",
              "       width=\"24px\">\n",
              "    <path d=\"M0 0h24v24H0V0z\" fill=\"none\"/>\n",
              "    <path d=\"M18.56 5.44l.94 2.06.94-2.06 2.06-.94-2.06-.94-.94-2.06-.94 2.06-2.06.94zm-11 1L8.5 8.5l.94-2.06 2.06-.94-2.06-.94L8.5 2.5l-.94 2.06-2.06.94zm10 10l.94 2.06.94-2.06 2.06-.94-2.06-.94-.94-2.06-.94 2.06-2.06.94z\"/><path d=\"M17.41 7.96l-1.37-1.37c-.4-.4-.92-.59-1.43-.59-.52 0-1.04.2-1.43.59L10.3 9.45l-7.72 7.72c-.78.78-.78 2.05 0 2.83L4 21.41c.39.39.9.59 1.41.59.51 0 1.02-.2 1.41-.59l7.78-7.78 2.81-2.81c.8-.78.8-2.07 0-2.86zM5.41 20L4 18.59l7.72-7.72 1.47 1.35L5.41 20z\"/>\n",
              "  </svg>\n",
              "      </button>\n",
              "      \n",
              "  <style>\n",
              "    .colab-df-container {\n",
              "      display:flex;\n",
              "      flex-wrap:wrap;\n",
              "      gap: 12px;\n",
              "    }\n",
              "\n",
              "    .colab-df-convert {\n",
              "      background-color: #E8F0FE;\n",
              "      border: none;\n",
              "      border-radius: 50%;\n",
              "      cursor: pointer;\n",
              "      display: none;\n",
              "      fill: #1967D2;\n",
              "      height: 32px;\n",
              "      padding: 0 0 0 0;\n",
              "      width: 32px;\n",
              "    }\n",
              "\n",
              "    .colab-df-convert:hover {\n",
              "      background-color: #E2EBFA;\n",
              "      box-shadow: 0px 1px 2px rgba(60, 64, 67, 0.3), 0px 1px 3px 1px rgba(60, 64, 67, 0.15);\n",
              "      fill: #174EA6;\n",
              "    }\n",
              "\n",
              "    [theme=dark] .colab-df-convert {\n",
              "      background-color: #3B4455;\n",
              "      fill: #D2E3FC;\n",
              "    }\n",
              "\n",
              "    [theme=dark] .colab-df-convert:hover {\n",
              "      background-color: #434B5C;\n",
              "      box-shadow: 0px 1px 3px 1px rgba(0, 0, 0, 0.15);\n",
              "      filter: drop-shadow(0px 1px 2px rgba(0, 0, 0, 0.3));\n",
              "      fill: #FFFFFF;\n",
              "    }\n",
              "  </style>\n",
              "\n",
              "      <script>\n",
              "        const buttonEl =\n",
              "          document.querySelector('#df-8a6f1058-f986-4ded-bb07-9f5d10e08300 button.colab-df-convert');\n",
              "        buttonEl.style.display =\n",
              "          google.colab.kernel.accessAllowed ? 'block' : 'none';\n",
              "\n",
              "        async function convertToInteractive(key) {\n",
              "          const element = document.querySelector('#df-8a6f1058-f986-4ded-bb07-9f5d10e08300');\n",
              "          const dataTable =\n",
              "            await google.colab.kernel.invokeFunction('convertToInteractive',\n",
              "                                                     [key], {});\n",
              "          if (!dataTable) return;\n",
              "\n",
              "          const docLinkHtml = 'Like what you see? Visit the ' +\n",
              "            '<a target=\"_blank\" href=https://colab.research.google.com/notebooks/data_table.ipynb>data table notebook</a>'\n",
              "            + ' to learn more about interactive tables.';\n",
              "          element.innerHTML = '';\n",
              "          dataTable['output_type'] = 'display_data';\n",
              "          await google.colab.output.renderOutput(dataTable, element);\n",
              "          const docLink = document.createElement('div');\n",
              "          docLink.innerHTML = docLinkHtml;\n",
              "          element.appendChild(docLink);\n",
              "        }\n",
              "      </script>\n",
              "    </div>\n",
              "  </div>\n",
              "  "
            ]
          },
          "metadata": {},
          "execution_count": 465
        }
      ]
    },
    {
      "source": [
        "ds_jobs_clean_filtered = ds_jobs_clean[(ds_jobs_clean[\"experience\"].isin(experience_list))&(ds_jobs_clean[\"company_size\"].isin(over_1k_employees))]"
      ],
      "metadata": {
        "jupyter": {
          "outputs_hidden": false,
          "source_hidden": false
        },
        "executionTime": 0,
        "lastSuccessfullyExecutedCode": "ds_jobs_clean_filtered = ds_jobs_clean[(ds_jobs_clean[\"experience\"].isin(experience_list))&(ds_jobs_clean[\"company_size\"].isin(over_1k_employees))]",
        "id": "ff53b2f1-8eee-46f0-86f6-336dafde1b5e"
      },
      "cell_type": "code",
      "id": "ff53b2f1-8eee-46f0-86f6-336dafde1b5e",
      "execution_count": 466,
      "outputs": []
    },
    {
      "source": [
        "ds_jobs_clean"
      ],
      "metadata": {
        "jupyter": {
          "outputs_hidden": false,
          "source_hidden": false
        },
        "executionTime": 439,
        "lastSuccessfullyExecutedCode": "ds_jobs_clean",
        "colab": {
          "base_uri": "https://localhost:8080/",
          "height": 424
        },
        "id": "46c4d344-242e-49cf-83ee-cf2a6da51c60",
        "outputId": "674cd0a7-d6b4-48e1-e8c1-87496dcd80b0"
      },
      "cell_type": "code",
      "id": "46c4d344-242e-49cf-83ee-cf2a6da51c60",
      "execution_count": 467,
      "outputs": [
        {
          "output_type": "execute_result",
          "data": {
            "text/plain": [
              "       student_id      city  city_development_index gender  \\\n",
              "0            8949  city_103                0.919922   Male   \n",
              "1           29725   city_40                0.775879   Male   \n",
              "2           11561   city_21                0.624023    NaN   \n",
              "3           33241  city_115                0.789062    NaN   \n",
              "4             666  city_162                0.767090   Male   \n",
              "...           ...       ...                     ...    ...   \n",
              "19153        7386  city_173                0.877930   Male   \n",
              "19154       31398  city_103                0.919922   Male   \n",
              "19155       24576  city_103                0.919922   Male   \n",
              "19156        5756   city_65                0.801758   Male   \n",
              "19157       23834   city_67                0.854980    NaN   \n",
              "\n",
              "           relevant_experience enrolled_university education_level  \\\n",
              "0      Has relevant experience       no_enrollment        Graduate   \n",
              "1       No relevant experience       no_enrollment        Graduate   \n",
              "2       No relevant experience    Full time course        Graduate   \n",
              "3       No relevant experience                 NaN        Graduate   \n",
              "4      Has relevant experience       no_enrollment         Masters   \n",
              "...                        ...                 ...             ...   \n",
              "19153   No relevant experience       no_enrollment        Graduate   \n",
              "19154  Has relevant experience       no_enrollment        Graduate   \n",
              "19155  Has relevant experience       no_enrollment        Graduate   \n",
              "19156  Has relevant experience       no_enrollment     High School   \n",
              "19157   No relevant experience       no_enrollment  Primary School   \n",
              "\n",
              "      major_discipline experience company_size    company_type last_new_job  \\\n",
              "0                 STEM        >20          NaN             NaN            1   \n",
              "1                 STEM         15        50-99         Pvt Ltd           >4   \n",
              "2                 STEM          5          NaN             NaN        never   \n",
              "3      Business Degree         <1          NaN         Pvt Ltd        never   \n",
              "4                 STEM        >20        50-99  Funded Startup            4   \n",
              "...                ...        ...          ...             ...          ...   \n",
              "19153       Humanities         14          NaN             NaN            1   \n",
              "19154             STEM         14          NaN             NaN            4   \n",
              "19155             STEM        >20        50-99         Pvt Ltd            4   \n",
              "19156              NaN         <1      500-999         Pvt Ltd            2   \n",
              "19157              NaN          2          NaN             NaN            1   \n",
              "\n",
              "       training_hours  job_change  \n",
              "0                  36         1.0  \n",
              "1                  47         0.0  \n",
              "2                  83         0.0  \n",
              "3                  52         1.0  \n",
              "4                   8         0.0  \n",
              "...               ...         ...  \n",
              "19153              42         1.0  \n",
              "19154              52         1.0  \n",
              "19155              44         0.0  \n",
              "19156              97         0.0  \n",
              "19157             127         0.0  \n",
              "\n",
              "[19158 rows x 14 columns]"
            ],
            "text/html": [
              "\n",
              "  <div id=\"df-b332e4d6-1442-4f7b-94f7-d1a7ccbf9be5\">\n",
              "    <div class=\"colab-df-container\">\n",
              "      <div>\n",
              "<style scoped>\n",
              "    .dataframe tbody tr th:only-of-type {\n",
              "        vertical-align: middle;\n",
              "    }\n",
              "\n",
              "    .dataframe tbody tr th {\n",
              "        vertical-align: top;\n",
              "    }\n",
              "\n",
              "    .dataframe thead th {\n",
              "        text-align: right;\n",
              "    }\n",
              "</style>\n",
              "<table border=\"1\" class=\"dataframe\">\n",
              "  <thead>\n",
              "    <tr style=\"text-align: right;\">\n",
              "      <th></th>\n",
              "      <th>student_id</th>\n",
              "      <th>city</th>\n",
              "      <th>city_development_index</th>\n",
              "      <th>gender</th>\n",
              "      <th>relevant_experience</th>\n",
              "      <th>enrolled_university</th>\n",
              "      <th>education_level</th>\n",
              "      <th>major_discipline</th>\n",
              "      <th>experience</th>\n",
              "      <th>company_size</th>\n",
              "      <th>company_type</th>\n",
              "      <th>last_new_job</th>\n",
              "      <th>training_hours</th>\n",
              "      <th>job_change</th>\n",
              "    </tr>\n",
              "  </thead>\n",
              "  <tbody>\n",
              "    <tr>\n",
              "      <th>0</th>\n",
              "      <td>8949</td>\n",
              "      <td>city_103</td>\n",
              "      <td>0.919922</td>\n",
              "      <td>Male</td>\n",
              "      <td>Has relevant experience</td>\n",
              "      <td>no_enrollment</td>\n",
              "      <td>Graduate</td>\n",
              "      <td>STEM</td>\n",
              "      <td>&gt;20</td>\n",
              "      <td>NaN</td>\n",
              "      <td>NaN</td>\n",
              "      <td>1</td>\n",
              "      <td>36</td>\n",
              "      <td>1.0</td>\n",
              "    </tr>\n",
              "    <tr>\n",
              "      <th>1</th>\n",
              "      <td>29725</td>\n",
              "      <td>city_40</td>\n",
              "      <td>0.775879</td>\n",
              "      <td>Male</td>\n",
              "      <td>No relevant experience</td>\n",
              "      <td>no_enrollment</td>\n",
              "      <td>Graduate</td>\n",
              "      <td>STEM</td>\n",
              "      <td>15</td>\n",
              "      <td>50-99</td>\n",
              "      <td>Pvt Ltd</td>\n",
              "      <td>&gt;4</td>\n",
              "      <td>47</td>\n",
              "      <td>0.0</td>\n",
              "    </tr>\n",
              "    <tr>\n",
              "      <th>2</th>\n",
              "      <td>11561</td>\n",
              "      <td>city_21</td>\n",
              "      <td>0.624023</td>\n",
              "      <td>NaN</td>\n",
              "      <td>No relevant experience</td>\n",
              "      <td>Full time course</td>\n",
              "      <td>Graduate</td>\n",
              "      <td>STEM</td>\n",
              "      <td>5</td>\n",
              "      <td>NaN</td>\n",
              "      <td>NaN</td>\n",
              "      <td>never</td>\n",
              "      <td>83</td>\n",
              "      <td>0.0</td>\n",
              "    </tr>\n",
              "    <tr>\n",
              "      <th>3</th>\n",
              "      <td>33241</td>\n",
              "      <td>city_115</td>\n",
              "      <td>0.789062</td>\n",
              "      <td>NaN</td>\n",
              "      <td>No relevant experience</td>\n",
              "      <td>NaN</td>\n",
              "      <td>Graduate</td>\n",
              "      <td>Business Degree</td>\n",
              "      <td>&lt;1</td>\n",
              "      <td>NaN</td>\n",
              "      <td>Pvt Ltd</td>\n",
              "      <td>never</td>\n",
              "      <td>52</td>\n",
              "      <td>1.0</td>\n",
              "    </tr>\n",
              "    <tr>\n",
              "      <th>4</th>\n",
              "      <td>666</td>\n",
              "      <td>city_162</td>\n",
              "      <td>0.767090</td>\n",
              "      <td>Male</td>\n",
              "      <td>Has relevant experience</td>\n",
              "      <td>no_enrollment</td>\n",
              "      <td>Masters</td>\n",
              "      <td>STEM</td>\n",
              "      <td>&gt;20</td>\n",
              "      <td>50-99</td>\n",
              "      <td>Funded Startup</td>\n",
              "      <td>4</td>\n",
              "      <td>8</td>\n",
              "      <td>0.0</td>\n",
              "    </tr>\n",
              "    <tr>\n",
              "      <th>...</th>\n",
              "      <td>...</td>\n",
              "      <td>...</td>\n",
              "      <td>...</td>\n",
              "      <td>...</td>\n",
              "      <td>...</td>\n",
              "      <td>...</td>\n",
              "      <td>...</td>\n",
              "      <td>...</td>\n",
              "      <td>...</td>\n",
              "      <td>...</td>\n",
              "      <td>...</td>\n",
              "      <td>...</td>\n",
              "      <td>...</td>\n",
              "      <td>...</td>\n",
              "    </tr>\n",
              "    <tr>\n",
              "      <th>19153</th>\n",
              "      <td>7386</td>\n",
              "      <td>city_173</td>\n",
              "      <td>0.877930</td>\n",
              "      <td>Male</td>\n",
              "      <td>No relevant experience</td>\n",
              "      <td>no_enrollment</td>\n",
              "      <td>Graduate</td>\n",
              "      <td>Humanities</td>\n",
              "      <td>14</td>\n",
              "      <td>NaN</td>\n",
              "      <td>NaN</td>\n",
              "      <td>1</td>\n",
              "      <td>42</td>\n",
              "      <td>1.0</td>\n",
              "    </tr>\n",
              "    <tr>\n",
              "      <th>19154</th>\n",
              "      <td>31398</td>\n",
              "      <td>city_103</td>\n",
              "      <td>0.919922</td>\n",
              "      <td>Male</td>\n",
              "      <td>Has relevant experience</td>\n",
              "      <td>no_enrollment</td>\n",
              "      <td>Graduate</td>\n",
              "      <td>STEM</td>\n",
              "      <td>14</td>\n",
              "      <td>NaN</td>\n",
              "      <td>NaN</td>\n",
              "      <td>4</td>\n",
              "      <td>52</td>\n",
              "      <td>1.0</td>\n",
              "    </tr>\n",
              "    <tr>\n",
              "      <th>19155</th>\n",
              "      <td>24576</td>\n",
              "      <td>city_103</td>\n",
              "      <td>0.919922</td>\n",
              "      <td>Male</td>\n",
              "      <td>Has relevant experience</td>\n",
              "      <td>no_enrollment</td>\n",
              "      <td>Graduate</td>\n",
              "      <td>STEM</td>\n",
              "      <td>&gt;20</td>\n",
              "      <td>50-99</td>\n",
              "      <td>Pvt Ltd</td>\n",
              "      <td>4</td>\n",
              "      <td>44</td>\n",
              "      <td>0.0</td>\n",
              "    </tr>\n",
              "    <tr>\n",
              "      <th>19156</th>\n",
              "      <td>5756</td>\n",
              "      <td>city_65</td>\n",
              "      <td>0.801758</td>\n",
              "      <td>Male</td>\n",
              "      <td>Has relevant experience</td>\n",
              "      <td>no_enrollment</td>\n",
              "      <td>High School</td>\n",
              "      <td>NaN</td>\n",
              "      <td>&lt;1</td>\n",
              "      <td>500-999</td>\n",
              "      <td>Pvt Ltd</td>\n",
              "      <td>2</td>\n",
              "      <td>97</td>\n",
              "      <td>0.0</td>\n",
              "    </tr>\n",
              "    <tr>\n",
              "      <th>19157</th>\n",
              "      <td>23834</td>\n",
              "      <td>city_67</td>\n",
              "      <td>0.854980</td>\n",
              "      <td>NaN</td>\n",
              "      <td>No relevant experience</td>\n",
              "      <td>no_enrollment</td>\n",
              "      <td>Primary School</td>\n",
              "      <td>NaN</td>\n",
              "      <td>2</td>\n",
              "      <td>NaN</td>\n",
              "      <td>NaN</td>\n",
              "      <td>1</td>\n",
              "      <td>127</td>\n",
              "      <td>0.0</td>\n",
              "    </tr>\n",
              "  </tbody>\n",
              "</table>\n",
              "<p>19158 rows × 14 columns</p>\n",
              "</div>\n",
              "      <button class=\"colab-df-convert\" onclick=\"convertToInteractive('df-b332e4d6-1442-4f7b-94f7-d1a7ccbf9be5')\"\n",
              "              title=\"Convert this dataframe to an interactive table.\"\n",
              "              style=\"display:none;\">\n",
              "        \n",
              "  <svg xmlns=\"http://www.w3.org/2000/svg\" height=\"24px\"viewBox=\"0 0 24 24\"\n",
              "       width=\"24px\">\n",
              "    <path d=\"M0 0h24v24H0V0z\" fill=\"none\"/>\n",
              "    <path d=\"M18.56 5.44l.94 2.06.94-2.06 2.06-.94-2.06-.94-.94-2.06-.94 2.06-2.06.94zm-11 1L8.5 8.5l.94-2.06 2.06-.94-2.06-.94L8.5 2.5l-.94 2.06-2.06.94zm10 10l.94 2.06.94-2.06 2.06-.94-2.06-.94-.94-2.06-.94 2.06-2.06.94z\"/><path d=\"M17.41 7.96l-1.37-1.37c-.4-.4-.92-.59-1.43-.59-.52 0-1.04.2-1.43.59L10.3 9.45l-7.72 7.72c-.78.78-.78 2.05 0 2.83L4 21.41c.39.39.9.59 1.41.59.51 0 1.02-.2 1.41-.59l7.78-7.78 2.81-2.81c.8-.78.8-2.07 0-2.86zM5.41 20L4 18.59l7.72-7.72 1.47 1.35L5.41 20z\"/>\n",
              "  </svg>\n",
              "      </button>\n",
              "      \n",
              "  <style>\n",
              "    .colab-df-container {\n",
              "      display:flex;\n",
              "      flex-wrap:wrap;\n",
              "      gap: 12px;\n",
              "    }\n",
              "\n",
              "    .colab-df-convert {\n",
              "      background-color: #E8F0FE;\n",
              "      border: none;\n",
              "      border-radius: 50%;\n",
              "      cursor: pointer;\n",
              "      display: none;\n",
              "      fill: #1967D2;\n",
              "      height: 32px;\n",
              "      padding: 0 0 0 0;\n",
              "      width: 32px;\n",
              "    }\n",
              "\n",
              "    .colab-df-convert:hover {\n",
              "      background-color: #E2EBFA;\n",
              "      box-shadow: 0px 1px 2px rgba(60, 64, 67, 0.3), 0px 1px 3px 1px rgba(60, 64, 67, 0.15);\n",
              "      fill: #174EA6;\n",
              "    }\n",
              "\n",
              "    [theme=dark] .colab-df-convert {\n",
              "      background-color: #3B4455;\n",
              "      fill: #D2E3FC;\n",
              "    }\n",
              "\n",
              "    [theme=dark] .colab-df-convert:hover {\n",
              "      background-color: #434B5C;\n",
              "      box-shadow: 0px 1px 3px 1px rgba(0, 0, 0, 0.15);\n",
              "      filter: drop-shadow(0px 1px 2px rgba(0, 0, 0, 0.3));\n",
              "      fill: #FFFFFF;\n",
              "    }\n",
              "  </style>\n",
              "\n",
              "      <script>\n",
              "        const buttonEl =\n",
              "          document.querySelector('#df-b332e4d6-1442-4f7b-94f7-d1a7ccbf9be5 button.colab-df-convert');\n",
              "        buttonEl.style.display =\n",
              "          google.colab.kernel.accessAllowed ? 'block' : 'none';\n",
              "\n",
              "        async function convertToInteractive(key) {\n",
              "          const element = document.querySelector('#df-b332e4d6-1442-4f7b-94f7-d1a7ccbf9be5');\n",
              "          const dataTable =\n",
              "            await google.colab.kernel.invokeFunction('convertToInteractive',\n",
              "                                                     [key], {});\n",
              "          if (!dataTable) return;\n",
              "\n",
              "          const docLinkHtml = 'Like what you see? Visit the ' +\n",
              "            '<a target=\"_blank\" href=https://colab.research.google.com/notebooks/data_table.ipynb>data table notebook</a>'\n",
              "            + ' to learn more about interactive tables.';\n",
              "          element.innerHTML = '';\n",
              "          dataTable['output_type'] = 'display_data';\n",
              "          await google.colab.output.renderOutput(dataTable, element);\n",
              "          const docLink = document.createElement('div');\n",
              "          docLink.innerHTML = docLinkHtml;\n",
              "          element.appendChild(docLink);\n",
              "        }\n",
              "      </script>\n",
              "    </div>\n",
              "  </div>\n",
              "  "
            ]
          },
          "metadata": {},
          "execution_count": 467
        }
      ]
    },
    {
      "source": [
        "checking shape"
      ],
      "metadata": {
        "id": "df718376-13b2-49df-8bf6-0eefc96d84e4"
      },
      "cell_type": "markdown",
      "id": "df718376-13b2-49df-8bf6-0eefc96d84e4"
    },
    {
      "source": [
        "ds_jobs_clean.dtypes"
      ],
      "metadata": {
        "jupyter": {
          "outputs_hidden": false,
          "source_hidden": false
        },
        "executionTime": 0,
        "lastSuccessfullyExecutedCode": "ds_jobs_clean.dtypes",
        "colab": {
          "base_uri": "https://localhost:8080/"
        },
        "id": "5e707f0c-8661-4b62-a27e-b5df1761a0ed",
        "outputId": "9d1a1937-3c8f-4b05-aefd-d41f8e226268"
      },
      "cell_type": "code",
      "id": "5e707f0c-8661-4b62-a27e-b5df1761a0ed",
      "execution_count": 468,
      "outputs": [
        {
          "output_type": "execute_result",
          "data": {
            "text/plain": [
              "student_id                   int32\n",
              "city                      category\n",
              "city_development_index     float16\n",
              "gender                    category\n",
              "relevant_experience       category\n",
              "enrolled_university       category\n",
              "education_level           category\n",
              "major_discipline          category\n",
              "experience                category\n",
              "company_size              category\n",
              "company_type              category\n",
              "last_new_job              category\n",
              "training_hours               int32\n",
              "job_change                 float16\n",
              "dtype: object"
            ]
          },
          "metadata": {},
          "execution_count": 468
        }
      ]
    },
    {
      "source": [
        "ds_jobs_clean.shape"
      ],
      "metadata": {
        "jupyter": {
          "outputs_hidden": false,
          "source_hidden": false
        },
        "executionTime": 0,
        "lastSuccessfullyExecutedCode": "ds_jobs_clean.shape",
        "colab": {
          "base_uri": "https://localhost:8080/"
        },
        "id": "b33bdcfb-e802-4665-9f98-d9cc085c5f57",
        "outputId": "8058d720-98fe-4c89-918e-2170177b21f3"
      },
      "cell_type": "code",
      "id": "b33bdcfb-e802-4665-9f98-d9cc085c5f57",
      "execution_count": 469,
      "outputs": [
        {
          "output_type": "execute_result",
          "data": {
            "text/plain": [
              "(19158, 14)"
            ]
          },
          "metadata": {},
          "execution_count": 469
        }
      ]
    },
    {
      "source": [
        "visualising the proportion of phd in the education level column"
      ],
      "metadata": {
        "id": "74cee939-f833-46ca-9579-4fc3636348eb"
      },
      "cell_type": "markdown",
      "id": "74cee939-f833-46ca-9579-4fc3636348eb"
    },
    {
      "source": [
        "import seaborn as sns \t\t\t# importing seaborn\n",
        "import matplotlib.pyplot as plt \t# and matplotlib libraries\n",
        "ds_jobs_clean.education_level.value_counts(normalize=True)"
      ],
      "metadata": {
        "executionTime": 0,
        "lastSuccessfullyExecutedCode": "import seaborn as sns \t\t\t# importing seaborn\nimport matplotlib.pyplot as plt \t# and matplotlib libraries\nds_jobs_clean.education_level.value_counts(normalize=True)",
        "colab": {
          "base_uri": "https://localhost:8080/"
        },
        "id": "b9948ebe-7742-453e-8494-826686d241da",
        "outputId": "7b9a2111-aa57-4ff3-9f81-9004b31de14c"
      },
      "cell_type": "code",
      "id": "b9948ebe-7742-453e-8494-826686d241da",
      "execution_count": 470,
      "outputs": [
        {
          "output_type": "execute_result",
          "data": {
            "text/plain": [
              "Graduate          0.620280\n",
              "Masters           0.233234\n",
              "High School       0.107872\n",
              "Phd               0.022141\n",
              "Primary School    0.016472\n",
              "Name: education_level, dtype: float64"
            ]
          },
          "metadata": {},
          "execution_count": 470
        }
      ]
    },
    {
      "source": [
        "ds_jobs_clean.education_level.value_counts(normalize=True).plot(kind=\"barh\", color=\"green\")\n",
        "plt.title(\"Proportion by education level\")\n",
        "plt.ylabel(\"education level\", color=\"green\")\n",
        "plt.show()"
      ],
      "metadata": {
        "executionTime": 120,
        "lastSuccessfullyExecutedCode": "ds_jobs_clean.education_level.value_counts(normalize=True).plot(kind=\"barh\", color=\"green\")\nplt.title(\"Proportion by education level\")\nplt.ylabel(\"education level\", color=\"green\")\nplt.show()",
        "colab": {
          "base_uri": "https://localhost:8080/",
          "height": 284
        },
        "id": "d6225058-f413-4a76-a238-c75e0c537ee0",
        "outputId": "48fe7987-67bd-463e-f6c9-6b675d3845ef"
      },
      "cell_type": "code",
      "id": "d6225058-f413-4a76-a238-c75e0c537ee0",
      "execution_count": 471,
      "outputs": [
        {
          "output_type": "display_data",
          "data": {
            "text/plain": [
              "<Figure size 432x288 with 1 Axes>"
            ],
            "image/png": "[encoded data removed]"
          },
          "metadata": {}
        }
      ]
    },
    {
      "source": [
        "What type of company tends to give employees more trainning?\n",
        "Also, get a sense of how this trainning are distributed between men and women"
      ],
      "metadata": {
        "id": "e2d7519c-e5d5-4357-9784-2380b163e059"
      },
      "cell_type": "markdown",
      "id": "e2d7519c-e5d5-4357-9784-2380b163e059"
    },
    {
      "source": [
        "ds_jobs_clean.company_type.value_counts()"
      ],
      "metadata": {
        "executionTime": 171,
        "lastSuccessfullyExecutedCode": "ds_jobs_clean.company_type.value_counts()",
        "colab": {
          "base_uri": "https://localhost:8080/"
        },
        "id": "202bd2fa-9fee-4232-8047-2989863a6213",
        "outputId": "edc15ac5-f909-4bee-a4e0-e7ab3ec879ea"
      },
      "cell_type": "code",
      "id": "202bd2fa-9fee-4232-8047-2989863a6213",
      "execution_count": 472,
      "outputs": [
        {
          "output_type": "execute_result",
          "data": {
            "text/plain": [
              "Pvt Ltd                9817\n",
              "Funded Startup         1001\n",
              "Public Sector           955\n",
              "Early Stage Startup     603\n",
              "NGO                     521\n",
              "Other                   121\n",
              "Name: company_type, dtype: int64"
            ]
          },
          "metadata": {},
          "execution_count": 472
        }
      ]
    },
    {
      "source": [
        "ds_jobs_clean.groupby([\"company_type\", \"gender\"]).training_hours.sum()\n",
        "# Looks like private company, much like in the Public sector tend to give more trainnings to their employees and more so to men. infact, the trend is the same across all sampled exterprises."
      ],
      "metadata": {
        "executionTime": 103,
        "lastSuccessfullyExecutedCode": "ds_jobs_clean.groupby([\"company_type\", \"gender\"]).training_hours.sum()\n# Looks like private company, much like in the Public sector tend to give more trainnings to their employees and more so to men. infact, the trend is the same across all sampled exterprises.",
        "colab": {
          "base_uri": "https://localhost:8080/"
        },
        "id": "f144db40-4fd3-49c3-95d4-1aa092721094",
        "outputId": "83f07398-5241-47c0-dafb-6e852366c833"
      },
      "cell_type": "code",
      "id": "f144db40-4fd3-49c3-95d4-1aa092721094",
      "execution_count": 473,
      "outputs": [
        {
          "output_type": "execute_result",
          "data": {
            "text/plain": [
              "company_type         gender\n",
              "Early Stage Startup  Female      2491\n",
              "                     Male       27472\n",
              "                     Other        194\n",
              "Funded Startup       Female      6697\n",
              "                     Male       49425\n",
              "                     Other        594\n",
              "NGO                  Female      3059\n",
              "                     Male       23150\n",
              "                     Other         34\n",
              "Other                Female       813\n",
              "                     Male        5144\n",
              "                     Other         45\n",
              "Public Sector        Female      6297\n",
              "                     Male       37062\n",
              "                     Other        256\n",
              "Pvt Ltd              Female     39352\n",
              "                     Male      457384\n",
              "                     Other       5486\n",
              "Name: training_hours, dtype: int32"
            ]
          },
          "metadata": {},
          "execution_count": 473
        }
      ]
    },
    {
      "source": [
        "# unstacking the dataframe to make it easier to read\n",
        "ds_jobs_clean.groupby([\"company_type\", \"gender\"]).training_hours.sum().unstack(-1)"
      ],
      "metadata": {
        "executionTime": 124,
        "lastSuccessfullyExecutedCode": "# unstacking the dataframe to make it easier to read\nds_jobs_clean.groupby([\"company_type\", \"gender\"]).training_hours.sum().unstack(-1)",
        "colab": {
          "base_uri": "https://localhost:8080/",
          "height": 269
        },
        "id": "3434fdd0-0206-4aec-861f-337ebd3b85c0",
        "outputId": "0c44dfff-5029-4b51-8190-0731655b1655"
      },
      "cell_type": "code",
      "id": "3434fdd0-0206-4aec-861f-337ebd3b85c0",
      "execution_count": 474,
      "outputs": [
        {
          "output_type": "execute_result",
          "data": {
            "text/plain": [
              "gender               Female    Male  Other\n",
              "company_type                              \n",
              "Early Stage Startup    2491   27472    194\n",
              "Funded Startup         6697   49425    594\n",
              "NGO                    3059   23150     34\n",
              "Other                   813    5144     45\n",
              "Public Sector          6297   37062    256\n",
              "Pvt Ltd               39352  457384   5486"
            ],
            "text/html": [
              "\n",
              "  <div id=\"df-5a4c4252-5874-4ff1-8fae-c07c9db9d086\">\n",
              "    <div class=\"colab-df-container\">\n",
              "      <div>\n",
              "<style scoped>\n",
              "    .dataframe tbody tr th:only-of-type {\n",
              "        vertical-align: middle;\n",
              "    }\n",
              "\n",
              "    .dataframe tbody tr th {\n",
              "        vertical-align: top;\n",
              "    }\n",
              "\n",
              "    .dataframe thead th {\n",
              "        text-align: right;\n",
              "    }\n",
              "</style>\n",
              "<table border=\"1\" class=\"dataframe\">\n",
              "  <thead>\n",
              "    <tr style=\"text-align: right;\">\n",
              "      <th>gender</th>\n",
              "      <th>Female</th>\n",
              "      <th>Male</th>\n",
              "      <th>Other</th>\n",
              "    </tr>\n",
              "    <tr>\n",
              "      <th>company_type</th>\n",
              "      <th></th>\n",
              "      <th></th>\n",
              "      <th></th>\n",
              "    </tr>\n",
              "  </thead>\n",
              "  <tbody>\n",
              "    <tr>\n",
              "      <th>Early Stage Startup</th>\n",
              "      <td>2491</td>\n",
              "      <td>27472</td>\n",
              "      <td>194</td>\n",
              "    </tr>\n",
              "    <tr>\n",
              "      <th>Funded Startup</th>\n",
              "      <td>6697</td>\n",
              "      <td>49425</td>\n",
              "      <td>594</td>\n",
              "    </tr>\n",
              "    <tr>\n",
              "      <th>NGO</th>\n",
              "      <td>3059</td>\n",
              "      <td>23150</td>\n",
              "      <td>34</td>\n",
              "    </tr>\n",
              "    <tr>\n",
              "      <th>Other</th>\n",
              "      <td>813</td>\n",
              "      <td>5144</td>\n",
              "      <td>45</td>\n",
              "    </tr>\n",
              "    <tr>\n",
              "      <th>Public Sector</th>\n",
              "      <td>6297</td>\n",
              "      <td>37062</td>\n",
              "      <td>256</td>\n",
              "    </tr>\n",
              "    <tr>\n",
              "      <th>Pvt Ltd</th>\n",
              "      <td>39352</td>\n",
              "      <td>457384</td>\n",
              "      <td>5486</td>\n",
              "    </tr>\n",
              "  </tbody>\n",
              "</table>\n",
              "</div>\n",
              "      <button class=\"colab-df-convert\" onclick=\"convertToInteractive('df-5a4c4252-5874-4ff1-8fae-c07c9db9d086')\"\n",
              "              title=\"Convert this dataframe to an interactive table.\"\n",
              "              style=\"display:none;\">\n",
              "        \n",
              "  <svg xmlns=\"http://www.w3.org/2000/svg\" height=\"24px\"viewBox=\"0 0 24 24\"\n",
              "       width=\"24px\">\n",
              "    <path d=\"M0 0h24v24H0V0z\" fill=\"none\"/>\n",
              "    <path d=\"M18.56 5.44l.94 2.06.94-2.06 2.06-.94-2.06-.94-.94-2.06-.94 2.06-2.06.94zm-11 1L8.5 8.5l.94-2.06 2.06-.94-2.06-.94L8.5 2.5l-.94 2.06-2.06.94zm10 10l.94 2.06.94-2.06 2.06-.94-2.06-.94-.94-2.06-.94 2.06-2.06.94z\"/><path d=\"M17.41 7.96l-1.37-1.37c-.4-.4-.92-.59-1.43-.59-.52 0-1.04.2-1.43.59L10.3 9.45l-7.72 7.72c-.78.78-.78 2.05 0 2.83L4 21.41c.39.39.9.59 1.41.59.51 0 1.02-.2 1.41-.59l7.78-7.78 2.81-2.81c.8-.78.8-2.07 0-2.86zM5.41 20L4 18.59l7.72-7.72 1.47 1.35L5.41 20z\"/>\n",
              "  </svg>\n",
              "      </button>\n",
              "      \n",
              "  <style>\n",
              "    .colab-df-container {\n",
              "      display:flex;\n",
              "      flex-wrap:wrap;\n",
              "      gap: 12px;\n",
              "    }\n",
              "\n",
              "    .colab-df-convert {\n",
              "      background-color: #E8F0FE;\n",
              "      border: none;\n",
              "      border-radius: 50%;\n",
              "      cursor: pointer;\n",
              "      display: none;\n",
              "      fill: #1967D2;\n",
              "      height: 32px;\n",
              "      padding: 0 0 0 0;\n",
              "      width: 32px;\n",
              "    }\n",
              "\n",
              "    .colab-df-convert:hover {\n",
              "      background-color: #E2EBFA;\n",
              "      box-shadow: 0px 1px 2px rgba(60, 64, 67, 0.3), 0px 1px 3px 1px rgba(60, 64, 67, 0.15);\n",
              "      fill: #174EA6;\n",
              "    }\n",
              "\n",
              "    [theme=dark] .colab-df-convert {\n",
              "      background-color: #3B4455;\n",
              "      fill: #D2E3FC;\n",
              "    }\n",
              "\n",
              "    [theme=dark] .colab-df-convert:hover {\n",
              "      background-color: #434B5C;\n",
              "      box-shadow: 0px 1px 3px 1px rgba(0, 0, 0, 0.15);\n",
              "      filter: drop-shadow(0px 1px 2px rgba(0, 0, 0, 0.3));\n",
              "      fill: #FFFFFF;\n",
              "    }\n",
              "  </style>\n",
              "\n",
              "      <script>\n",
              "        const buttonEl =\n",
              "          document.querySelector('#df-5a4c4252-5874-4ff1-8fae-c07c9db9d086 button.colab-df-convert');\n",
              "        buttonEl.style.display =\n",
              "          google.colab.kernel.accessAllowed ? 'block' : 'none';\n",
              "\n",
              "        async function convertToInteractive(key) {\n",
              "          const element = document.querySelector('#df-5a4c4252-5874-4ff1-8fae-c07c9db9d086');\n",
              "          const dataTable =\n",
              "            await google.colab.kernel.invokeFunction('convertToInteractive',\n",
              "                                                     [key], {});\n",
              "          if (!dataTable) return;\n",
              "\n",
              "          const docLinkHtml = 'Like what you see? Visit the ' +\n",
              "            '<a target=\"_blank\" href=https://colab.research.google.com/notebooks/data_table.ipynb>data table notebook</a>'\n",
              "            + ' to learn more about interactive tables.';\n",
              "          element.innerHTML = '';\n",
              "          dataTable['output_type'] = 'display_data';\n",
              "          await google.colab.output.renderOutput(dataTable, element);\n",
              "          const docLink = document.createElement('div');\n",
              "          docLink.innerHTML = docLinkHtml;\n",
              "          element.appendChild(docLink);\n",
              "        }\n",
              "      </script>\n",
              "    </div>\n",
              "  </div>\n",
              "  "
            ]
          },
          "metadata": {},
          "execution_count": 474
        }
      ]
    },
    {
      "source": [
        "sns.set_theme(style='dark')\n",
        "sns.countplot(data=ds_jobs_clean, x=\"gender\", order = ds_jobs_clean.gender.value_counts().index)\n",
        "plt.show()\n",
        "# the class imbalance was largely responsible for the biased towards men. We can undersample the men's class to rectify this, but thats beyonf the scope of this project"
      ],
      "metadata": {
        "executionTime": 248,
        "lastSuccessfullyExecutedCode": "sns.set_theme(style='dark')\nsns.countplot(data=ds_jobs_clean, x=\"gender\", order = ds_jobs_clean.gender.value_counts().index)\nplt.show()\n# the class imbalance was largely responsible for the biased towards men. We can undersample the men's class to rectify this, but thats beyonf the scope of this project",
        "colab": {
          "base_uri": "https://localhost:8080/",
          "height": 285
        },
        "id": "86255f63-804d-49f8-9854-8f632fc963ca",
        "outputId": "b84684c5-59da-4404-f064-b84fc045f8f6"
      },
      "cell_type": "code",
      "id": "86255f63-804d-49f8-9854-8f632fc963ca",
      "execution_count": 475,
      "outputs": [
        {
          "output_type": "display_data",
          "data": {
            "text/plain": [
              "<Figure size 432x288 with 1 Axes>"
            ],
            "image/png": "[encoded data removed]"
          },
          "metadata": {}
        }
      ]
    },
    {
      "cell_type": "code",
      "source": [],
      "metadata": {
        "id": "FqbiXvVkkrkT"
      },
      "id": "FqbiXvVkkrkT",
      "execution_count": 475,
      "outputs": []
    },
    {
      "source": [
        "ds_jobs_clean.head(3)"
      ],
      "metadata": {
        "executionTime": 331,
        "lastSuccessfullyExecutedCode": "ds_jobs_clean",
        "colab": {
          "base_uri": "https://localhost:8080/",
          "height": 143
        },
        "id": "54887204-9ebc-4369-8ad5-16736f5d5f34",
        "outputId": "5c43f7af-4897-4028-88a6-da4caad04cfe"
      },
      "cell_type": "code",
      "id": "54887204-9ebc-4369-8ad5-16736f5d5f34",
      "execution_count": 476,
      "outputs": [
        {
          "output_type": "execute_result",
          "data": {
            "text/plain": [
              "   student_id      city  city_development_index gender  \\\n",
              "0        8949  city_103                0.919922   Male   \n",
              "1       29725   city_40                0.775879   Male   \n",
              "2       11561   city_21                0.624023    NaN   \n",
              "\n",
              "       relevant_experience enrolled_university education_level  \\\n",
              "0  Has relevant experience       no_enrollment        Graduate   \n",
              "1   No relevant experience       no_enrollment        Graduate   \n",
              "2   No relevant experience    Full time course        Graduate   \n",
              "\n",
              "  major_discipline experience company_size company_type last_new_job  \\\n",
              "0             STEM        >20          NaN          NaN            1   \n",
              "1             STEM         15        50-99      Pvt Ltd           >4   \n",
              "2             STEM          5          NaN          NaN        never   \n",
              "\n",
              "   training_hours  job_change  \n",
              "0              36         1.0  \n",
              "1              47         0.0  \n",
              "2              83         0.0  "
            ],
            "text/html": [
              "\n",
              "  <div id=\"df-34ef3b08-467d-4163-9aa7-e357040046d6\">\n",
              "    <div class=\"colab-df-container\">\n",
              "      <div>\n",
              "<style scoped>\n",
              "    .dataframe tbody tr th:only-of-type {\n",
              "        vertical-align: middle;\n",
              "    }\n",
              "\n",
              "    .dataframe tbody tr th {\n",
              "        vertical-align: top;\n",
              "    }\n",
              "\n",
              "    .dataframe thead th {\n",
              "        text-align: right;\n",
              "    }\n",
              "</style>\n",
              "<table border=\"1\" class=\"dataframe\">\n",
              "  <thead>\n",
              "    <tr style=\"text-align: right;\">\n",
              "      <th></th>\n",
              "      <th>student_id</th>\n",
              "      <th>city</th>\n",
              "      <th>city_development_index</th>\n",
              "      <th>gender</th>\n",
              "      <th>relevant_experience</th>\n",
              "      <th>enrolled_university</th>\n",
              "      <th>education_level</th>\n",
              "      <th>major_discipline</th>\n",
              "      <th>experience</th>\n",
              "      <th>company_size</th>\n",
              "      <th>company_type</th>\n",
              "      <th>last_new_job</th>\n",
              "      <th>training_hours</th>\n",
              "      <th>job_change</th>\n",
              "    </tr>\n",
              "  </thead>\n",
              "  <tbody>\n",
              "    <tr>\n",
              "      <th>0</th>\n",
              "      <td>8949</td>\n",
              "      <td>city_103</td>\n",
              "      <td>0.919922</td>\n",
              "      <td>Male</td>\n",
              "      <td>Has relevant experience</td>\n",
              "      <td>no_enrollment</td>\n",
              "      <td>Graduate</td>\n",
              "      <td>STEM</td>\n",
              "      <td>&gt;20</td>\n",
              "      <td>NaN</td>\n",
              "      <td>NaN</td>\n",
              "      <td>1</td>\n",
              "      <td>36</td>\n",
              "      <td>1.0</td>\n",
              "    </tr>\n",
              "    <tr>\n",
              "      <th>1</th>\n",
              "      <td>29725</td>\n",
              "      <td>city_40</td>\n",
              "      <td>0.775879</td>\n",
              "      <td>Male</td>\n",
              "      <td>No relevant experience</td>\n",
              "      <td>no_enrollment</td>\n",
              "      <td>Graduate</td>\n",
              "      <td>STEM</td>\n",
              "      <td>15</td>\n",
              "      <td>50-99</td>\n",
              "      <td>Pvt Ltd</td>\n",
              "      <td>&gt;4</td>\n",
              "      <td>47</td>\n",
              "      <td>0.0</td>\n",
              "    </tr>\n",
              "    <tr>\n",
              "      <th>2</th>\n",
              "      <td>11561</td>\n",
              "      <td>city_21</td>\n",
              "      <td>0.624023</td>\n",
              "      <td>NaN</td>\n",
              "      <td>No relevant experience</td>\n",
              "      <td>Full time course</td>\n",
              "      <td>Graduate</td>\n",
              "      <td>STEM</td>\n",
              "      <td>5</td>\n",
              "      <td>NaN</td>\n",
              "      <td>NaN</td>\n",
              "      <td>never</td>\n",
              "      <td>83</td>\n",
              "      <td>0.0</td>\n",
              "    </tr>\n",
              "  </tbody>\n",
              "</table>\n",
              "</div>\n",
              "      <button class=\"colab-df-convert\" onclick=\"convertToInteractive('df-34ef3b08-467d-4163-9aa7-e357040046d6')\"\n",
              "              title=\"Convert this dataframe to an interactive table.\"\n",
              "              style=\"display:none;\">\n",
              "        \n",
              "  <svg xmlns=\"http://www.w3.org/2000/svg\" height=\"24px\"viewBox=\"0 0 24 24\"\n",
              "       width=\"24px\">\n",
              "    <path d=\"M0 0h24v24H0V0z\" fill=\"none\"/>\n",
              "    <path d=\"M18.56 5.44l.94 2.06.94-2.06 2.06-.94-2.06-.94-.94-2.06-.94 2.06-2.06.94zm-11 1L8.5 8.5l.94-2.06 2.06-.94-2.06-.94L8.5 2.5l-.94 2.06-2.06.94zm10 10l.94 2.06.94-2.06 2.06-.94-2.06-.94-.94-2.06-.94 2.06-2.06.94z\"/><path d=\"M17.41 7.96l-1.37-1.37c-.4-.4-.92-.59-1.43-.59-.52 0-1.04.2-1.43.59L10.3 9.45l-7.72 7.72c-.78.78-.78 2.05 0 2.83L4 21.41c.39.39.9.59 1.41.59.51 0 1.02-.2 1.41-.59l7.78-7.78 2.81-2.81c.8-.78.8-2.07 0-2.86zM5.41 20L4 18.59l7.72-7.72 1.47 1.35L5.41 20z\"/>\n",
              "  </svg>\n",
              "      </button>\n",
              "      \n",
              "  <style>\n",
              "    .colab-df-container {\n",
              "      display:flex;\n",
              "      flex-wrap:wrap;\n",
              "      gap: 12px;\n",
              "    }\n",
              "\n",
              "    .colab-df-convert {\n",
              "      background-color: #E8F0FE;\n",
              "      border: none;\n",
              "      border-radius: 50%;\n",
              "      cursor: pointer;\n",
              "      display: none;\n",
              "      fill: #1967D2;\n",
              "      height: 32px;\n",
              "      padding: 0 0 0 0;\n",
              "      width: 32px;\n",
              "    }\n",
              "\n",
              "    .colab-df-convert:hover {\n",
              "      background-color: #E2EBFA;\n",
              "      box-shadow: 0px 1px 2px rgba(60, 64, 67, 0.3), 0px 1px 3px 1px rgba(60, 64, 67, 0.15);\n",
              "      fill: #174EA6;\n",
              "    }\n",
              "\n",
              "    [theme=dark] .colab-df-convert {\n",
              "      background-color: #3B4455;\n",
              "      fill: #D2E3FC;\n",
              "    }\n",
              "\n",
              "    [theme=dark] .colab-df-convert:hover {\n",
              "      background-color: #434B5C;\n",
              "      box-shadow: 0px 1px 3px 1px rgba(0, 0, 0, 0.15);\n",
              "      filter: drop-shadow(0px 1px 2px rgba(0, 0, 0, 0.3));\n",
              "      fill: #FFFFFF;\n",
              "    }\n",
              "  </style>\n",
              "\n",
              "      <script>\n",
              "        const buttonEl =\n",
              "          document.querySelector('#df-34ef3b08-467d-4163-9aa7-e357040046d6 button.colab-df-convert');\n",
              "        buttonEl.style.display =\n",
              "          google.colab.kernel.accessAllowed ? 'block' : 'none';\n",
              "\n",
              "        async function convertToInteractive(key) {\n",
              "          const element = document.querySelector('#df-34ef3b08-467d-4163-9aa7-e357040046d6');\n",
              "          const dataTable =\n",
              "            await google.colab.kernel.invokeFunction('convertToInteractive',\n",
              "                                                     [key], {});\n",
              "          if (!dataTable) return;\n",
              "\n",
              "          const docLinkHtml = 'Like what you see? Visit the ' +\n",
              "            '<a target=\"_blank\" href=https://colab.research.google.com/notebooks/data_table.ipynb>data table notebook</a>'\n",
              "            + ' to learn more about interactive tables.';\n",
              "          element.innerHTML = '';\n",
              "          dataTable['output_type'] = 'display_data';\n",
              "          await google.colab.output.renderOutput(dataTable, element);\n",
              "          const docLink = document.createElement('div');\n",
              "          docLink.innerHTML = docLinkHtml;\n",
              "          element.appendChild(docLink);\n",
              "        }\n",
              "      </script>\n",
              "    </div>\n",
              "  </div>\n",
              "  "
            ]
          },
          "metadata": {},
          "execution_count": 476
        }
      ]
    },
    {
      "source": [
        "# how many men have low education? i.e high school and primary school\n",
        "male_low_educ = ds_jobs_clean[ds_jobs_clean.education_level.isin([\"High School\", \"Primary School\"]) & (ds_jobs_clean[\"gender\"]==\"Male\")]"
      ],
      "metadata": {
        "executionTime": 0,
        "lastSuccessfullyExecutedCode": "# how many men have low education? i.e high school and primary school\n[ds_jobs_clean.education_level.isin([\"High School\", \"Primary School\"])]",
        "id": "10b9781b-7e4c-4b69-958f-f28a946fb306"
      },
      "cell_type": "code",
      "id": "10b9781b-7e4c-4b69-958f-f28a946fb306",
      "execution_count": 477,
      "outputs": []
    },
    {
      "source": [
        "# How many women are highly educated? i.e belonging to graduate, masters and phd\n",
        "\n",
        "female_high_educ = ds_jobs_clean[(ds_jobs_clean[\"education_level\"].isin([\"Graduate\", \"Masters\", \"Phd\"])) & (ds_jobs_clean[\"gender\"]==\"Female\")]"
      ],
      "metadata": {
        "executionTime": 0,
        "lastSuccessfullyExecutedCode": "# How many women are highly educated? i.e belonging to graduate, masters and phd\n\n[ds_jobs_clean.education_level.isin([\"Graduate\", \"Masters\", \"Phd\"])]\n",
        "id": "dbe4909b-5087-414d-8ad8-84bb8ea808cc"
      },
      "cell_type": "code",
      "id": "dbe4909b-5087-414d-8ad8-84bb8ea808cc",
      "execution_count": 478,
      "outputs": []
    },
    {
      "cell_type": "code",
      "source": [
        "# combining the 2 dataframes\n",
        "new_educ_df = pd.concat([male_low_educ, female_high_educ])"
      ],
      "metadata": {
        "id": "z-_Rqfs4OKGy"
      },
      "id": "z-_Rqfs4OKGy",
      "execution_count": 479,
      "outputs": []
    },
    {
      "cell_type": "code",
      "source": [
        "new_educ_df.head(3) # Do men with low education tend to earn more than women with high level education?"
      ],
      "metadata": {
        "colab": {
          "base_uri": "https://localhost:8080/",
          "height": 143
        },
        "id": "8apMp2I1SjWj",
        "outputId": "52766e4d-50f8-4c99-dd14-7c196233c2f3"
      },
      "id": "8apMp2I1SjWj",
      "execution_count": 480,
      "outputs": [
        {
          "output_type": "execute_result",
          "data": {
            "text/plain": [
              "    student_id      city  city_development_index gender  \\\n",
              "6        28806  city_160                0.919922   Male   \n",
              "28       21538  city_100                0.887207   Male   \n",
              "36       12726  city_114                0.925781   Male   \n",
              "\n",
              "        relevant_experience enrolled_university education_level  \\\n",
              "6   Has relevant experience       no_enrollment     High School   \n",
              "28  Has relevant experience       no_enrollment     High School   \n",
              "36   No relevant experience    Part time course     High School   \n",
              "\n",
              "   major_discipline experience company_size    company_type last_new_job  \\\n",
              "6               NaN          5        50-99  Funded Startup            1   \n",
              "28              NaN         11          <10         Pvt Ltd            1   \n",
              "36              NaN          1       10000+           Other            1   \n",
              "\n",
              "    training_hours  job_change  \n",
              "6               24         0.0  \n",
              "28               8         1.0  \n",
              "36             152         0.0  "
            ],
            "text/html": [
              "\n",
              "  <div id=\"df-192c6fcd-356c-4c00-9844-3c5071f65010\">\n",
              "    <div class=\"colab-df-container\">\n",
              "      <div>\n",
              "<style scoped>\n",
              "    .dataframe tbody tr th:only-of-type {\n",
              "        vertical-align: middle;\n",
              "    }\n",
              "\n",
              "    .dataframe tbody tr th {\n",
              "        vertical-align: top;\n",
              "    }\n",
              "\n",
              "    .dataframe thead th {\n",
              "        text-align: right;\n",
              "    }\n",
              "</style>\n",
              "<table border=\"1\" class=\"dataframe\">\n",
              "  <thead>\n",
              "    <tr style=\"text-align: right;\">\n",
              "      <th></th>\n",
              "      <th>student_id</th>\n",
              "      <th>city</th>\n",
              "      <th>city_development_index</th>\n",
              "      <th>gender</th>\n",
              "      <th>relevant_experience</th>\n",
              "      <th>enrolled_university</th>\n",
              "      <th>education_level</th>\n",
              "      <th>major_discipline</th>\n",
              "      <th>experience</th>\n",
              "      <th>company_size</th>\n",
              "      <th>company_type</th>\n",
              "      <th>last_new_job</th>\n",
              "      <th>training_hours</th>\n",
              "      <th>job_change</th>\n",
              "    </tr>\n",
              "  </thead>\n",
              "  <tbody>\n",
              "    <tr>\n",
              "      <th>6</th>\n",
              "      <td>28806</td>\n",
              "      <td>city_160</td>\n",
              "      <td>0.919922</td>\n",
              "      <td>Male</td>\n",
              "      <td>Has relevant experience</td>\n",
              "      <td>no_enrollment</td>\n",
              "      <td>High School</td>\n",
              "      <td>NaN</td>\n",
              "      <td>5</td>\n",
              "      <td>50-99</td>\n",
              "      <td>Funded Startup</td>\n",
              "      <td>1</td>\n",
              "      <td>24</td>\n",
              "      <td>0.0</td>\n",
              "    </tr>\n",
              "    <tr>\n",
              "      <th>28</th>\n",
              "      <td>21538</td>\n",
              "      <td>city_100</td>\n",
              "      <td>0.887207</td>\n",
              "      <td>Male</td>\n",
              "      <td>Has relevant experience</td>\n",
              "      <td>no_enrollment</td>\n",
              "      <td>High School</td>\n",
              "      <td>NaN</td>\n",
              "      <td>11</td>\n",
              "      <td>&lt;10</td>\n",
              "      <td>Pvt Ltd</td>\n",
              "      <td>1</td>\n",
              "      <td>8</td>\n",
              "      <td>1.0</td>\n",
              "    </tr>\n",
              "    <tr>\n",
              "      <th>36</th>\n",
              "      <td>12726</td>\n",
              "      <td>city_114</td>\n",
              "      <td>0.925781</td>\n",
              "      <td>Male</td>\n",
              "      <td>No relevant experience</td>\n",
              "      <td>Part time course</td>\n",
              "      <td>High School</td>\n",
              "      <td>NaN</td>\n",
              "      <td>1</td>\n",
              "      <td>10000+</td>\n",
              "      <td>Other</td>\n",
              "      <td>1</td>\n",
              "      <td>152</td>\n",
              "      <td>0.0</td>\n",
              "    </tr>\n",
              "  </tbody>\n",
              "</table>\n",
              "</div>\n",
              "      <button class=\"colab-df-convert\" onclick=\"convertToInteractive('df-192c6fcd-356c-4c00-9844-3c5071f65010')\"\n",
              "              title=\"Convert this dataframe to an interactive table.\"\n",
              "              style=\"display:none;\">\n",
              "        \n",
              "  <svg xmlns=\"http://www.w3.org/2000/svg\" height=\"24px\"viewBox=\"0 0 24 24\"\n",
              "       width=\"24px\">\n",
              "    <path d=\"M0 0h24v24H0V0z\" fill=\"none\"/>\n",
              "    <path d=\"M18.56 5.44l.94 2.06.94-2.06 2.06-.94-2.06-.94-.94-2.06-.94 2.06-2.06.94zm-11 1L8.5 8.5l.94-2.06 2.06-.94-2.06-.94L8.5 2.5l-.94 2.06-2.06.94zm10 10l.94 2.06.94-2.06 2.06-.94-2.06-.94-.94-2.06-.94 2.06-2.06.94z\"/><path d=\"M17.41 7.96l-1.37-1.37c-.4-.4-.92-.59-1.43-.59-.52 0-1.04.2-1.43.59L10.3 9.45l-7.72 7.72c-.78.78-.78 2.05 0 2.83L4 21.41c.39.39.9.59 1.41.59.51 0 1.02-.2 1.41-.59l7.78-7.78 2.81-2.81c.8-.78.8-2.07 0-2.86zM5.41 20L4 18.59l7.72-7.72 1.47 1.35L5.41 20z\"/>\n",
              "  </svg>\n",
              "      </button>\n",
              "      \n",
              "  <style>\n",
              "    .colab-df-container {\n",
              "      display:flex;\n",
              "      flex-wrap:wrap;\n",
              "      gap: 12px;\n",
              "    }\n",
              "\n",
              "    .colab-df-convert {\n",
              "      background-color: #E8F0FE;\n",
              "      border: none;\n",
              "      border-radius: 50%;\n",
              "      cursor: pointer;\n",
              "      display: none;\n",
              "      fill: #1967D2;\n",
              "      height: 32px;\n",
              "      padding: 0 0 0 0;\n",
              "      width: 32px;\n",
              "    }\n",
              "\n",
              "    .colab-df-convert:hover {\n",
              "      background-color: #E2EBFA;\n",
              "      box-shadow: 0px 1px 2px rgba(60, 64, 67, 0.3), 0px 1px 3px 1px rgba(60, 64, 67, 0.15);\n",
              "      fill: #174EA6;\n",
              "    }\n",
              "\n",
              "    [theme=dark] .colab-df-convert {\n",
              "      background-color: #3B4455;\n",
              "      fill: #D2E3FC;\n",
              "    }\n",
              "\n",
              "    [theme=dark] .colab-df-convert:hover {\n",
              "      background-color: #434B5C;\n",
              "      box-shadow: 0px 1px 3px 1px rgba(0, 0, 0, 0.15);\n",
              "      filter: drop-shadow(0px 1px 2px rgba(0, 0, 0, 0.3));\n",
              "      fill: #FFFFFF;\n",
              "    }\n",
              "  </style>\n",
              "\n",
              "      <script>\n",
              "        const buttonEl =\n",
              "          document.querySelector('#df-192c6fcd-356c-4c00-9844-3c5071f65010 button.colab-df-convert');\n",
              "        buttonEl.style.display =\n",
              "          google.colab.kernel.accessAllowed ? 'block' : 'none';\n",
              "\n",
              "        async function convertToInteractive(key) {\n",
              "          const element = document.querySelector('#df-192c6fcd-356c-4c00-9844-3c5071f65010');\n",
              "          const dataTable =\n",
              "            await google.colab.kernel.invokeFunction('convertToInteractive',\n",
              "                                                     [key], {});\n",
              "          if (!dataTable) return;\n",
              "\n",
              "          const docLinkHtml = 'Like what you see? Visit the ' +\n",
              "            '<a target=\"_blank\" href=https://colab.research.google.com/notebooks/data_table.ipynb>data table notebook</a>'\n",
              "            + ' to learn more about interactive tables.';\n",
              "          element.innerHTML = '';\n",
              "          dataTable['output_type'] = 'display_data';\n",
              "          await google.colab.output.renderOutput(dataTable, element);\n",
              "          const docLink = document.createElement('div');\n",
              "          docLink.innerHTML = docLinkHtml;\n",
              "          element.appendChild(docLink);\n",
              "        }\n",
              "      </script>\n",
              "    </div>\n",
              "  </div>\n",
              "  "
            ]
          },
          "metadata": {},
          "execution_count": 480
        }
      ]
    }
  ],
  "metadata": {
    "language_info": {
      "name": "python",
      "version": "3.8.10",
      "mimetype": "text/x-python",
      "codemirror_mode": {
        "name": "ipython",
        "version": 3
      },
      "pygments_lexer": "ipython3",
      "nbconvert_exporter": "python",
      "file_extension": ".py"
    },
    "kernelspec": {
      "display_name": "Python 3 (ipykernel)",
      "language": "python",
      "name": "python3"
    },
    "editor": "DataCamp Workspace",
    "colab": {
      "provenance": [],
      "include_colab_link": true
    }
  },
  "nbformat": 4,
  "nbformat_minor": 5
}